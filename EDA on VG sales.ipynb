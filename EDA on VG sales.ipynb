{
 "cells": [
  {
   "cell_type": "markdown",
   "metadata": {},
   "source": [
    "###### My goal on this kernel is to analyze videogames sales. So, for this purpose I would like to examine what are the top 100 of sold games in a global perspective. Then, I examine those games in terms of platform and genre according to each region. (?)\n",
    "\n",
    "###### Also, I would like to center on the storytelling of the results. "
   ]
  },
  {
   "cell_type": "code",
   "execution_count": 1,
   "metadata": {},
   "outputs": [
    {
     "data": {
      "text/html": [
       "        <script type=\"text/javascript\">\n",
       "        window.PlotlyConfig = {MathJaxConfig: 'local'};\n",
       "        if (window.MathJax) {MathJax.Hub.Config({SVG: {font: \"STIX-Web\"}});}\n",
       "        if (typeof require !== 'undefined') {\n",
       "        require.undef(\"plotly\");\n",
       "        requirejs.config({\n",
       "            paths: {\n",
       "                'plotly': ['https://cdn.plot.ly/plotly-latest.min']\n",
       "            }\n",
       "        });\n",
       "        require(['plotly'], function(Plotly) {\n",
       "            window._Plotly = Plotly;\n",
       "        });\n",
       "        }\n",
       "        </script>\n",
       "        "
      ]
     },
     "metadata": {},
     "output_type": "display_data"
    }
   ],
   "source": [
    "import pandas as pd\n",
    "import numpy as np\n",
    "import matplotlib.pyplot as plt\n",
    "import seaborn as sns\n",
    "from plotly.offline import init_notebook_mode,iplot\n",
    "init_notebook_mode(connected=True)\n",
    "import plotly.graph_objs as go\n",
    "from plotly.tools import FigureFactory as ff\n",
    "import matplotlib.pyplot as plt"
   ]
  },
  {
   "cell_type": "code",
   "execution_count": 2,
   "metadata": {},
   "outputs": [],
   "source": [
    "vgsales = pd.read_csv('vgsales.csv')"
   ]
  },
  {
   "cell_type": "code",
   "execution_count": 3,
   "metadata": {},
   "outputs": [
    {
     "name": "stdout",
     "output_type": "stream",
     "text": [
      "<class 'pandas.core.frame.DataFrame'>\n",
      "RangeIndex: 16598 entries, 0 to 16597\n",
      "Data columns (total 11 columns):\n",
      " #   Column        Non-Null Count  Dtype  \n",
      "---  ------        --------------  -----  \n",
      " 0   Rank          16598 non-null  int64  \n",
      " 1   Name          16598 non-null  object \n",
      " 2   Platform      16598 non-null  object \n",
      " 3   Year          16327 non-null  float64\n",
      " 4   Genre         16598 non-null  object \n",
      " 5   Publisher     16540 non-null  object \n",
      " 6   NA_Sales      16598 non-null  float64\n",
      " 7   EU_Sales      16598 non-null  float64\n",
      " 8   JP_Sales      16598 non-null  float64\n",
      " 9   Other_Sales   16598 non-null  float64\n",
      " 10  Global_Sales  16598 non-null  float64\n",
      "dtypes: float64(6), int64(1), object(4)\n",
      "memory usage: 1.4+ MB\n"
     ]
    }
   ],
   "source": [
    "vgsales.info()"
   ]
  },
  {
   "cell_type": "markdown",
   "metadata": {},
   "source": [
    "### Here we can see that this dataset contains 11 columns, wich are:\n",
    "      Rank: Ranking of overall sales. Integer.\n",
    "      Name: Game name. Object\n",
    "      Platform: Platform where the game was released (PC, PS3, WII, etc). Object\n",
    "      Year: Year where the game was released. Float\n",
    "      Genre: Genre of the game. Object.\n",
    "      Publisher: Publisher of the game. Object\n",
    "      NA_Sales: Sales in NA, expressed in millions. Float\n",
    "      EU_Sales: Sales in Europe, expressed in millions. Float\n",
    "      JP_Sales: Sales in Japan, expressed in millions. Float\n",
    "      Other_Sales: Sales in the rest of the world, expressed in millions. Float\n",
    "      Global_Sales: Worldwide sales, expressed in millions. Float"
   ]
  },
  {
   "cell_type": "code",
   "execution_count": 4,
   "metadata": {},
   "outputs": [
    {
     "data": {
      "text/html": [
       "<div>\n",
       "<style scoped>\n",
       "    .dataframe tbody tr th:only-of-type {\n",
       "        vertical-align: middle;\n",
       "    }\n",
       "\n",
       "    .dataframe tbody tr th {\n",
       "        vertical-align: top;\n",
       "    }\n",
       "\n",
       "    .dataframe thead th {\n",
       "        text-align: right;\n",
       "    }\n",
       "</style>\n",
       "<table border=\"1\" class=\"dataframe\">\n",
       "  <thead>\n",
       "    <tr style=\"text-align: right;\">\n",
       "      <th></th>\n",
       "      <th>Rank</th>\n",
       "      <th>Name</th>\n",
       "      <th>Platform</th>\n",
       "      <th>Year</th>\n",
       "      <th>Genre</th>\n",
       "      <th>Publisher</th>\n",
       "      <th>NA_Sales</th>\n",
       "      <th>EU_Sales</th>\n",
       "      <th>JP_Sales</th>\n",
       "      <th>Other_Sales</th>\n",
       "      <th>Global_Sales</th>\n",
       "    </tr>\n",
       "  </thead>\n",
       "  <tbody>\n",
       "    <tr>\n",
       "      <th>0</th>\n",
       "      <td>1</td>\n",
       "      <td>Wii Sports</td>\n",
       "      <td>Wii</td>\n",
       "      <td>2006.0</td>\n",
       "      <td>Sports</td>\n",
       "      <td>Nintendo</td>\n",
       "      <td>41.49</td>\n",
       "      <td>29.02</td>\n",
       "      <td>3.77</td>\n",
       "      <td>8.46</td>\n",
       "      <td>82.74</td>\n",
       "    </tr>\n",
       "    <tr>\n",
       "      <th>1</th>\n",
       "      <td>2</td>\n",
       "      <td>Super Mario Bros.</td>\n",
       "      <td>NES</td>\n",
       "      <td>1985.0</td>\n",
       "      <td>Platform</td>\n",
       "      <td>Nintendo</td>\n",
       "      <td>29.08</td>\n",
       "      <td>3.58</td>\n",
       "      <td>6.81</td>\n",
       "      <td>0.77</td>\n",
       "      <td>40.24</td>\n",
       "    </tr>\n",
       "    <tr>\n",
       "      <th>2</th>\n",
       "      <td>3</td>\n",
       "      <td>Mario Kart Wii</td>\n",
       "      <td>Wii</td>\n",
       "      <td>2008.0</td>\n",
       "      <td>Racing</td>\n",
       "      <td>Nintendo</td>\n",
       "      <td>15.85</td>\n",
       "      <td>12.88</td>\n",
       "      <td>3.79</td>\n",
       "      <td>3.31</td>\n",
       "      <td>35.82</td>\n",
       "    </tr>\n",
       "    <tr>\n",
       "      <th>3</th>\n",
       "      <td>4</td>\n",
       "      <td>Wii Sports Resort</td>\n",
       "      <td>Wii</td>\n",
       "      <td>2009.0</td>\n",
       "      <td>Sports</td>\n",
       "      <td>Nintendo</td>\n",
       "      <td>15.75</td>\n",
       "      <td>11.01</td>\n",
       "      <td>3.28</td>\n",
       "      <td>2.96</td>\n",
       "      <td>33.00</td>\n",
       "    </tr>\n",
       "    <tr>\n",
       "      <th>4</th>\n",
       "      <td>5</td>\n",
       "      <td>Pokemon Red/Pokemon Blue</td>\n",
       "      <td>GB</td>\n",
       "      <td>1996.0</td>\n",
       "      <td>Role-Playing</td>\n",
       "      <td>Nintendo</td>\n",
       "      <td>11.27</td>\n",
       "      <td>8.89</td>\n",
       "      <td>10.22</td>\n",
       "      <td>1.00</td>\n",
       "      <td>31.37</td>\n",
       "    </tr>\n",
       "  </tbody>\n",
       "</table>\n",
       "</div>"
      ],
      "text/plain": [
       "   Rank                      Name Platform    Year         Genre Publisher  \\\n",
       "0     1                Wii Sports      Wii  2006.0        Sports  Nintendo   \n",
       "1     2         Super Mario Bros.      NES  1985.0      Platform  Nintendo   \n",
       "2     3            Mario Kart Wii      Wii  2008.0        Racing  Nintendo   \n",
       "3     4         Wii Sports Resort      Wii  2009.0        Sports  Nintendo   \n",
       "4     5  Pokemon Red/Pokemon Blue       GB  1996.0  Role-Playing  Nintendo   \n",
       "\n",
       "   NA_Sales  EU_Sales  JP_Sales  Other_Sales  Global_Sales  \n",
       "0     41.49     29.02      3.77         8.46         82.74  \n",
       "1     29.08      3.58      6.81         0.77         40.24  \n",
       "2     15.85     12.88      3.79         3.31         35.82  \n",
       "3     15.75     11.01      3.28         2.96         33.00  \n",
       "4     11.27      8.89     10.22         1.00         31.37  "
      ]
     },
     "execution_count": 4,
     "metadata": {},
     "output_type": "execute_result"
    }
   ],
   "source": [
    "vgsales.head()"
   ]
  },
  {
   "cell_type": "markdown",
   "metadata": {},
   "source": [
    "###### Let's see wich are the 100 most sold games"
   ]
  },
  {
   "cell_type": "code",
   "execution_count": 5,
   "metadata": {},
   "outputs": [],
   "source": [
    "# Lets create a dataset with the 100 most sold games on each different region\n",
    "\n",
    "top100 = vgsales.head(100)"
   ]
  },
  {
   "cell_type": "code",
   "execution_count": 6,
   "metadata": {},
   "outputs": [
    {
     "data": {
      "application/vnd.plotly.v1+json": {
       "config": {
        "linkText": "Export to plot.ly",
        "plotlyServerURL": "https://plot.ly",
        "showLink": false
       },
       "data": [
        {
         "marker": {
          "color": "rgba(28, 149, 249, 0.8)",
          "size": 8
         },
         "mode": "markers",
         "name": "North America",
         "text": [
          "Wii Sports",
          "Super Mario Bros.",
          "Mario Kart Wii",
          "Wii Sports Resort",
          "Pokemon Red/Pokemon Blue",
          "Tetris",
          "New Super Mario Bros.",
          "Wii Play",
          "New Super Mario Bros. Wii",
          "Duck Hunt",
          "Nintendogs",
          "Mario Kart DS",
          "Pokemon Gold/Pokemon Silver",
          "Wii Fit",
          "Wii Fit Plus",
          "Kinect Adventures!",
          "Grand Theft Auto V",
          "Grand Theft Auto: San Andreas",
          "Super Mario World",
          "Brain Age: Train Your Brain in Minutes a Day",
          "Pokemon Diamond/Pokemon Pearl",
          "Super Mario Land",
          "Super Mario Bros. 3",
          "Grand Theft Auto V",
          "Grand Theft Auto: Vice City",
          "Pokemon Ruby/Pokemon Sapphire",
          "Pokemon Black/Pokemon White",
          "Brain Age 2: More Training in Minutes a Day",
          "Gran Turismo 3: A-Spec",
          "Call of Duty: Modern Warfare 3",
          "Pokémon Yellow: Special Pikachu Edition",
          "Call of Duty: Black Ops",
          "Pokemon X/Pokemon Y",
          "Call of Duty: Black Ops 3",
          "Call of Duty: Black Ops II",
          "Call of Duty: Black Ops II",
          "Call of Duty: Modern Warfare 2",
          "Call of Duty: Modern Warfare 3",
          "Grand Theft Auto III",
          "Super Smash Bros. Brawl",
          "Call of Duty: Black Ops",
          "Animal Crossing: Wild World",
          "Mario Kart 7",
          "Halo 3",
          "Grand Theft Auto V",
          "Pokemon HeartGold/Pokemon SoulSilver",
          "Super Mario 64",
          "Gran Turismo 4",
          "Super Mario Galaxy",
          "Pokemon Omega Ruby/Pokemon Alpha Sapphire",
          "Super Mario Land 2: 6 Golden Coins",
          "Grand Theft Auto IV",
          "Gran Turismo",
          "Super Mario 3D Land",
          "Gran Turismo 5",
          "Call of Duty: Modern Warfare 2",
          "Grand Theft Auto IV",
          "Super Mario All-Stars",
          "Pokemon FireRed/Pokemon LeafGreen",
          "Super Mario 64",
          "Just Dance 3",
          "Call of Duty: Ghosts",
          "Halo: Reach",
          "Mario Kart 64",
          "New Super Mario Bros. 2",
          "Halo 4",
          "Final Fantasy VII",
          "Call of Duty: Ghosts",
          "Just Dance 2",
          "Gran Turismo 2",
          "Call of Duty 4: Modern Warfare",
          "Donkey Kong Country",
          "Minecraft",
          "Animal Crossing: New Leaf",
          "Mario Party DS",
          "The Elder Scrolls V: Skyrim",
          "Super Mario Kart",
          "FIFA 16",
          "Wii Party",
          "Halo 2",
          "Mario Party 8",
          "Pokemon Black 2/Pokemon White 2",
          "FIFA Soccer 13",
          "The Sims 3",
          "GoldenEye 007",
          "Mario & Sonic at the Olympic Games",
          "Final Fantasy X",
          "Final Fantasy VIII",
          "Pokémon Platinum Version",
          "Pac-Man",
          "Grand Theft Auto: Liberty City Stories",
          "Super Mario Galaxy 2",
          "Star Wars Battlefront (2015)",
          "Call of Duty: Advanced Warfare",
          "The Legend of Zelda: Ocarina of Time",
          "Crash Bandicoot 2: Cortex Strikes Back",
          "Super Mario Bros. 2",
          "Super Smash Bros. for Wii U and 3DS",
          "Call of Duty: World at War",
          "Battlefield 3"
         ],
         "type": "scatter",
         "x": [
          1,
          2,
          3,
          4,
          5,
          6,
          7,
          8,
          9,
          10,
          11,
          12,
          13,
          14,
          15,
          16,
          17,
          18,
          19,
          20,
          21,
          22,
          23,
          24,
          25,
          26,
          27,
          28,
          29,
          30,
          31,
          32,
          33,
          34,
          35,
          36,
          37,
          38,
          39,
          40,
          41,
          42,
          43,
          44,
          45,
          46,
          47,
          48,
          49,
          50,
          51,
          52,
          53,
          54,
          55,
          56,
          57,
          58,
          59,
          60,
          61,
          62,
          63,
          64,
          65,
          66,
          67,
          68,
          69,
          70,
          71,
          72,
          73,
          74,
          75,
          76,
          77,
          78,
          79,
          80,
          81,
          82,
          83,
          84,
          85,
          86,
          87,
          88,
          89,
          90,
          91,
          92,
          93,
          94,
          95,
          96,
          97,
          98,
          99,
          100
         ],
         "y": [
          41.49,
          29.08,
          15.85,
          15.75,
          11.27,
          23.2,
          11.38,
          14.03,
          14.59,
          26.93,
          9.07,
          9.81,
          9,
          8.94,
          9.09,
          14.97,
          7.01,
          9.43,
          12.78,
          4.75,
          6.42,
          10.83,
          9.54,
          9.63,
          8.41,
          6.06,
          5.57,
          3.44,
          6.85,
          9.03,
          5.89,
          9.67,
          5.17,
          5.77,
          4.99,
          8.25,
          8.52,
          5.54,
          6.99,
          6.75,
          5.98,
          2.55,
          4.74,
          7.97,
          3.8,
          4.4,
          6.91,
          3.01,
          6.16,
          4.23,
          6.16,
          6.76,
          4.02,
          4.89,
          2.96,
          4.99,
          4.76,
          5.99,
          4.34,
          5.08,
          6.05,
          6.72,
          7.03,
          5.55,
          3.66,
          6.63,
          3.01,
          4.09,
          5.84,
          3.88,
          5.91,
          4.36,
          5.58,
          2.01,
          4.46,
          5.03,
          3.54,
          1.11,
          1.79,
          6.82,
          3.81,
          2.91,
          1.06,
          0.98,
          5.8,
          2.58,
          2.91,
          2.28,
          2.82,
          7.28,
          2.9,
          3.66,
          2.93,
          2.8,
          4.1,
          3.78,
          5.39,
          3.24,
          4.79,
          4.46
         ]
        },
        {
         "marker": {
          "color": "rgba(249, 94, 28, 0.8)",
          "size": 8
         },
         "mode": "markers",
         "name": "Europe",
         "text": [
          "Wii Sports",
          "Super Mario Bros.",
          "Mario Kart Wii",
          "Wii Sports Resort",
          "Pokemon Red/Pokemon Blue",
          "Tetris",
          "New Super Mario Bros.",
          "Wii Play",
          "New Super Mario Bros. Wii",
          "Duck Hunt",
          "Nintendogs",
          "Mario Kart DS",
          "Pokemon Gold/Pokemon Silver",
          "Wii Fit",
          "Wii Fit Plus",
          "Kinect Adventures!",
          "Grand Theft Auto V",
          "Grand Theft Auto: San Andreas",
          "Super Mario World",
          "Brain Age: Train Your Brain in Minutes a Day",
          "Pokemon Diamond/Pokemon Pearl",
          "Super Mario Land",
          "Super Mario Bros. 3",
          "Grand Theft Auto V",
          "Grand Theft Auto: Vice City",
          "Pokemon Ruby/Pokemon Sapphire",
          "Pokemon Black/Pokemon White",
          "Brain Age 2: More Training in Minutes a Day",
          "Gran Turismo 3: A-Spec",
          "Call of Duty: Modern Warfare 3",
          "Pokémon Yellow: Special Pikachu Edition",
          "Call of Duty: Black Ops",
          "Pokemon X/Pokemon Y",
          "Call of Duty: Black Ops 3",
          "Call of Duty: Black Ops II",
          "Call of Duty: Black Ops II",
          "Call of Duty: Modern Warfare 2",
          "Call of Duty: Modern Warfare 3",
          "Grand Theft Auto III",
          "Super Smash Bros. Brawl",
          "Call of Duty: Black Ops",
          "Animal Crossing: Wild World",
          "Mario Kart 7",
          "Halo 3",
          "Grand Theft Auto V",
          "Pokemon HeartGold/Pokemon SoulSilver",
          "Super Mario 64",
          "Gran Turismo 4",
          "Super Mario Galaxy",
          "Pokemon Omega Ruby/Pokemon Alpha Sapphire",
          "Super Mario Land 2: 6 Golden Coins",
          "Grand Theft Auto IV",
          "Gran Turismo",
          "Super Mario 3D Land",
          "Gran Turismo 5",
          "Call of Duty: Modern Warfare 2",
          "Grand Theft Auto IV",
          "Super Mario All-Stars",
          "Pokemon FireRed/Pokemon LeafGreen",
          "Super Mario 64",
          "Just Dance 3",
          "Call of Duty: Ghosts",
          "Halo: Reach",
          "Mario Kart 64",
          "New Super Mario Bros. 2",
          "Halo 4",
          "Final Fantasy VII",
          "Call of Duty: Ghosts",
          "Just Dance 2",
          "Gran Turismo 2",
          "Call of Duty 4: Modern Warfare",
          "Donkey Kong Country",
          "Minecraft",
          "Animal Crossing: New Leaf",
          "Mario Party DS",
          "The Elder Scrolls V: Skyrim",
          "Super Mario Kart",
          "FIFA 16",
          "Wii Party",
          "Halo 2",
          "Mario Party 8",
          "Pokemon Black 2/Pokemon White 2",
          "FIFA Soccer 13",
          "The Sims 3",
          "GoldenEye 007",
          "Mario & Sonic at the Olympic Games",
          "Final Fantasy X",
          "Final Fantasy VIII",
          "Pokémon Platinum Version",
          "Pac-Man",
          "Grand Theft Auto: Liberty City Stories",
          "Super Mario Galaxy 2",
          "Star Wars Battlefront (2015)",
          "Call of Duty: Advanced Warfare",
          "The Legend of Zelda: Ocarina of Time",
          "Crash Bandicoot 2: Cortex Strikes Back",
          "Super Mario Bros. 2",
          "Super Smash Bros. for Wii U and 3DS",
          "Call of Duty: World at War",
          "Battlefield 3"
         ],
         "type": "scatter",
         "x": [
          1,
          2,
          3,
          4,
          5,
          6,
          7,
          8,
          9,
          10,
          11,
          12,
          13,
          14,
          15,
          16,
          17,
          18,
          19,
          20,
          21,
          22,
          23,
          24,
          25,
          26,
          27,
          28,
          29,
          30,
          31,
          32,
          33,
          34,
          35,
          36,
          37,
          38,
          39,
          40,
          41,
          42,
          43,
          44,
          45,
          46,
          47,
          48,
          49,
          50,
          51,
          52,
          53,
          54,
          55,
          56,
          57,
          58,
          59,
          60,
          61,
          62,
          63,
          64,
          65,
          66,
          67,
          68,
          69,
          70,
          71,
          72,
          73,
          74,
          75,
          76,
          77,
          78,
          79,
          80,
          81,
          82,
          83,
          84,
          85,
          86,
          87,
          88,
          89,
          90,
          91,
          92,
          93,
          94,
          95,
          96,
          97,
          98,
          99,
          100
         ],
         "y": [
          29.02,
          3.58,
          12.88,
          11.01,
          8.89,
          2.26,
          9.23,
          9.2,
          7.06,
          0.63,
          11,
          7.57,
          6.18,
          8.03,
          8.59,
          4.94,
          9.27,
          0.4,
          3.75,
          9.26,
          4.52,
          2.71,
          3.44,
          5.31,
          5.49,
          3.9,
          3.28,
          5.36,
          5.09,
          4.28,
          5.04,
          3.73,
          4.05,
          5.81,
          5.88,
          4.3,
          3.63,
          5.82,
          4.51,
          2.61,
          4.44,
          3.52,
          3.91,
          2.83,
          5.81,
          2.77,
          2.85,
          0.01,
          3.4,
          3.37,
          2.04,
          3.1,
          3.87,
          2.99,
          4.88,
          3.69,
          3.76,
          2.15,
          2.65,
          3.11,
          3.15,
          2.63,
          1.98,
          1.94,
          3.07,
          2.36,
          2.47,
          3.73,
          2.89,
          3.42,
          2.38,
          1.71,
          2.83,
          2.32,
          1.88,
          2.86,
          1.24,
          6.06,
          3.53,
          1.53,
          2.3,
          1.86,
          5.05,
          6.42,
          2.01,
          3.9,
          2.07,
          1.72,
          1.78,
          0.45,
          2.83,
          2.42,
          3.29,
          3.3,
          1.89,
          2.17,
          1.18,
          1.35,
          1.9,
          2.13
         ]
        },
        {
         "marker": {
          "color": "rgba(150, 26, 80, 0.8)",
          "size": 8
         },
         "mode": "markers",
         "name": "Japan",
         "text": [
          "Wii Sports",
          "Super Mario Bros.",
          "Mario Kart Wii",
          "Wii Sports Resort",
          "Pokemon Red/Pokemon Blue",
          "Tetris",
          "New Super Mario Bros.",
          "Wii Play",
          "New Super Mario Bros. Wii",
          "Duck Hunt",
          "Nintendogs",
          "Mario Kart DS",
          "Pokemon Gold/Pokemon Silver",
          "Wii Fit",
          "Wii Fit Plus",
          "Kinect Adventures!",
          "Grand Theft Auto V",
          "Grand Theft Auto: San Andreas",
          "Super Mario World",
          "Brain Age: Train Your Brain in Minutes a Day",
          "Pokemon Diamond/Pokemon Pearl",
          "Super Mario Land",
          "Super Mario Bros. 3",
          "Grand Theft Auto V",
          "Grand Theft Auto: Vice City",
          "Pokemon Ruby/Pokemon Sapphire",
          "Pokemon Black/Pokemon White",
          "Brain Age 2: More Training in Minutes a Day",
          "Gran Turismo 3: A-Spec",
          "Call of Duty: Modern Warfare 3",
          "Pokémon Yellow: Special Pikachu Edition",
          "Call of Duty: Black Ops",
          "Pokemon X/Pokemon Y",
          "Call of Duty: Black Ops 3",
          "Call of Duty: Black Ops II",
          "Call of Duty: Black Ops II",
          "Call of Duty: Modern Warfare 2",
          "Call of Duty: Modern Warfare 3",
          "Grand Theft Auto III",
          "Super Smash Bros. Brawl",
          "Call of Duty: Black Ops",
          "Animal Crossing: Wild World",
          "Mario Kart 7",
          "Halo 3",
          "Grand Theft Auto V",
          "Pokemon HeartGold/Pokemon SoulSilver",
          "Super Mario 64",
          "Gran Turismo 4",
          "Super Mario Galaxy",
          "Pokemon Omega Ruby/Pokemon Alpha Sapphire",
          "Super Mario Land 2: 6 Golden Coins",
          "Grand Theft Auto IV",
          "Gran Turismo",
          "Super Mario 3D Land",
          "Gran Turismo 5",
          "Call of Duty: Modern Warfare 2",
          "Grand Theft Auto IV",
          "Super Mario All-Stars",
          "Pokemon FireRed/Pokemon LeafGreen",
          "Super Mario 64",
          "Just Dance 3",
          "Call of Duty: Ghosts",
          "Halo: Reach",
          "Mario Kart 64",
          "New Super Mario Bros. 2",
          "Halo 4",
          "Final Fantasy VII",
          "Call of Duty: Ghosts",
          "Just Dance 2",
          "Gran Turismo 2",
          "Call of Duty 4: Modern Warfare",
          "Donkey Kong Country",
          "Minecraft",
          "Animal Crossing: New Leaf",
          "Mario Party DS",
          "The Elder Scrolls V: Skyrim",
          "Super Mario Kart",
          "FIFA 16",
          "Wii Party",
          "Halo 2",
          "Mario Party 8",
          "Pokemon Black 2/Pokemon White 2",
          "FIFA Soccer 13",
          "The Sims 3",
          "GoldenEye 007",
          "Mario & Sonic at the Olympic Games",
          "Final Fantasy X",
          "Final Fantasy VIII",
          "Pokémon Platinum Version",
          "Pac-Man",
          "Grand Theft Auto: Liberty City Stories",
          "Super Mario Galaxy 2",
          "Star Wars Battlefront (2015)",
          "Call of Duty: Advanced Warfare",
          "The Legend of Zelda: Ocarina of Time",
          "Crash Bandicoot 2: Cortex Strikes Back",
          "Super Mario Bros. 2",
          "Super Smash Bros. for Wii U and 3DS",
          "Call of Duty: World at War",
          "Battlefield 3"
         ],
         "type": "scatter",
         "x": [
          1,
          2,
          3,
          4,
          5,
          6,
          7,
          8,
          9,
          10,
          11,
          12,
          13,
          14,
          15,
          16,
          17,
          18,
          19,
          20,
          21,
          22,
          23,
          24,
          25,
          26,
          27,
          28,
          29,
          30,
          31,
          32,
          33,
          34,
          35,
          36,
          37,
          38,
          39,
          40,
          41,
          42,
          43,
          44,
          45,
          46,
          47,
          48,
          49,
          50,
          51,
          52,
          53,
          54,
          55,
          56,
          57,
          58,
          59,
          60,
          61,
          62,
          63,
          64,
          65,
          66,
          67,
          68,
          69,
          70,
          71,
          72,
          73,
          74,
          75,
          76,
          77,
          78,
          79,
          80,
          81,
          82,
          83,
          84,
          85,
          86,
          87,
          88,
          89,
          90,
          91,
          92,
          93,
          94,
          95,
          96,
          97,
          98,
          99,
          100
         ],
         "y": [
          3.77,
          6.81,
          3.79,
          3.28,
          10.22,
          4.22,
          6.5,
          2.93,
          4.7,
          0.28,
          1.93,
          4.13,
          7.2,
          3.6,
          2.53,
          0.24,
          0.97,
          0.41,
          3.54,
          4.16,
          6.04,
          4.18,
          3.84,
          0.06,
          0.47,
          5.38,
          5.65,
          5.32,
          1.87,
          0.13,
          3.12,
          0.11,
          4.34,
          0.35,
          0.65,
          0.07,
          0.08,
          0.49,
          0.3,
          2.66,
          0.48,
          5.33,
          2.67,
          0.13,
          0.36,
          3.96,
          1.91,
          1.1,
          1.2,
          3.08,
          2.69,
          0.14,
          2.54,
          2.13,
          0.81,
          0.38,
          0.44,
          2.12,
          3.15,
          1.25,
          0,
          0.04,
          0.08,
          2.23,
          2.47,
          0.04,
          3.28,
          0.38,
          0.01,
          1.69,
          0.13,
          3,
          0.02,
          4.36,
          1.98,
          0.1,
          3.81,
          0.06,
          2.49,
          0.05,
          1.58,
          3.14,
          0.13,
          0,
          0.13,
          0.66,
          2.73,
          3.63,
          2.69,
          0,
          0.24,
          0.98,
          0.22,
          0.14,
          1.45,
          1.31,
          0.7,
          2.42,
          0,
          0.06
         ]
        },
        {
         "marker": {
          "color": "green",
          "size": 8
         },
         "mode": "markers",
         "name": "Other",
         "text": [
          "Wii Sports",
          "Super Mario Bros.",
          "Mario Kart Wii",
          "Wii Sports Resort",
          "Pokemon Red/Pokemon Blue",
          "Tetris",
          "New Super Mario Bros.",
          "Wii Play",
          "New Super Mario Bros. Wii",
          "Duck Hunt",
          "Nintendogs",
          "Mario Kart DS",
          "Pokemon Gold/Pokemon Silver",
          "Wii Fit",
          "Wii Fit Plus",
          "Kinect Adventures!",
          "Grand Theft Auto V",
          "Grand Theft Auto: San Andreas",
          "Super Mario World",
          "Brain Age: Train Your Brain in Minutes a Day",
          "Pokemon Diamond/Pokemon Pearl",
          "Super Mario Land",
          "Super Mario Bros. 3",
          "Grand Theft Auto V",
          "Grand Theft Auto: Vice City",
          "Pokemon Ruby/Pokemon Sapphire",
          "Pokemon Black/Pokemon White",
          "Brain Age 2: More Training in Minutes a Day",
          "Gran Turismo 3: A-Spec",
          "Call of Duty: Modern Warfare 3",
          "Pokémon Yellow: Special Pikachu Edition",
          "Call of Duty: Black Ops",
          "Pokemon X/Pokemon Y",
          "Call of Duty: Black Ops 3",
          "Call of Duty: Black Ops II",
          "Call of Duty: Black Ops II",
          "Call of Duty: Modern Warfare 2",
          "Call of Duty: Modern Warfare 3",
          "Grand Theft Auto III",
          "Super Smash Bros. Brawl",
          "Call of Duty: Black Ops",
          "Animal Crossing: Wild World",
          "Mario Kart 7",
          "Halo 3",
          "Grand Theft Auto V",
          "Pokemon HeartGold/Pokemon SoulSilver",
          "Super Mario 64",
          "Gran Turismo 4",
          "Super Mario Galaxy",
          "Pokemon Omega Ruby/Pokemon Alpha Sapphire",
          "Super Mario Land 2: 6 Golden Coins",
          "Grand Theft Auto IV",
          "Gran Turismo",
          "Super Mario 3D Land",
          "Gran Turismo 5",
          "Call of Duty: Modern Warfare 2",
          "Grand Theft Auto IV",
          "Super Mario All-Stars",
          "Pokemon FireRed/Pokemon LeafGreen",
          "Super Mario 64",
          "Just Dance 3",
          "Call of Duty: Ghosts",
          "Halo: Reach",
          "Mario Kart 64",
          "New Super Mario Bros. 2",
          "Halo 4",
          "Final Fantasy VII",
          "Call of Duty: Ghosts",
          "Just Dance 2",
          "Gran Turismo 2",
          "Call of Duty 4: Modern Warfare",
          "Donkey Kong Country",
          "Minecraft",
          "Animal Crossing: New Leaf",
          "Mario Party DS",
          "The Elder Scrolls V: Skyrim",
          "Super Mario Kart",
          "FIFA 16",
          "Wii Party",
          "Halo 2",
          "Mario Party 8",
          "Pokemon Black 2/Pokemon White 2",
          "FIFA Soccer 13",
          "The Sims 3",
          "GoldenEye 007",
          "Mario & Sonic at the Olympic Games",
          "Final Fantasy X",
          "Final Fantasy VIII",
          "Pokémon Platinum Version",
          "Pac-Man",
          "Grand Theft Auto: Liberty City Stories",
          "Super Mario Galaxy 2",
          "Star Wars Battlefront (2015)",
          "Call of Duty: Advanced Warfare",
          "The Legend of Zelda: Ocarina of Time",
          "Crash Bandicoot 2: Cortex Strikes Back",
          "Super Mario Bros. 2",
          "Super Smash Bros. for Wii U and 3DS",
          "Call of Duty: World at War",
          "Battlefield 3"
         ],
         "type": "scatter",
         "x": [
          1,
          2,
          3,
          4,
          5,
          6,
          7,
          8,
          9,
          10,
          11,
          12,
          13,
          14,
          15,
          16,
          17,
          18,
          19,
          20,
          21,
          22,
          23,
          24,
          25,
          26,
          27,
          28,
          29,
          30,
          31,
          32,
          33,
          34,
          35,
          36,
          37,
          38,
          39,
          40,
          41,
          42,
          43,
          44,
          45,
          46,
          47,
          48,
          49,
          50,
          51,
          52,
          53,
          54,
          55,
          56,
          57,
          58,
          59,
          60,
          61,
          62,
          63,
          64,
          65,
          66,
          67,
          68,
          69,
          70,
          71,
          72,
          73,
          74,
          75,
          76,
          77,
          78,
          79,
          80,
          81,
          82,
          83,
          84,
          85,
          86,
          87,
          88,
          89,
          90,
          91,
          92,
          93,
          94,
          95,
          96,
          97,
          98,
          99,
          100
         ],
         "y": [
          8.46,
          0.77,
          3.31,
          2.96,
          1,
          0.58,
          2.9,
          2.85,
          2.26,
          0.47,
          2.75,
          1.92,
          0.71,
          2.15,
          1.79,
          1.67,
          4.14,
          10.57,
          0.55,
          2.05,
          1.37,
          0.42,
          0.46,
          1.38,
          1.78,
          0.5,
          0.82,
          1.18,
          1.16,
          1.32,
          0.59,
          1.13,
          0.79,
          2.31,
          2.52,
          1.12,
          1.29,
          1.62,
          1.3,
          1.02,
          1.83,
          0.88,
          0.89,
          1.21,
          2.02,
          0.77,
          0.23,
          7.53,
          0.76,
          0.65,
          0.29,
          1.03,
          0.52,
          0.78,
          2.12,
          1.63,
          1.62,
          0.29,
          0.35,
          0.98,
          1.07,
          0.82,
          0.78,
          0.15,
          0.63,
          0.73,
          0.96,
          1.38,
          0.78,
          0.5,
          0.9,
          0.23,
          0.77,
          0.41,
          0.7,
          0.85,
          0.18,
          1.26,
          0.68,
          0.08,
          0.73,
          0.43,
          2.01,
          0.71,
          0.15,
          0.91,
          0.33,
          0.23,
          0.55,
          0.08,
          1.75,
          0.64,
          1.23,
          1.37,
          0.16,
          0.31,
          0.19,
          0.43,
          0.69,
          0.69
         ]
        }
       ],
       "layout": {
        "paper_bgcolor": "rgb(243, 243, 243)",
        "plot_bgcolor": "rgb(243, 243, 243)",
        "template": {
         "data": {
          "bar": [
           {
            "error_x": {
             "color": "#2a3f5f"
            },
            "error_y": {
             "color": "#2a3f5f"
            },
            "marker": {
             "line": {
              "color": "#E5ECF6",
              "width": 0.5
             }
            },
            "type": "bar"
           }
          ],
          "barpolar": [
           {
            "marker": {
             "line": {
              "color": "#E5ECF6",
              "width": 0.5
             }
            },
            "type": "barpolar"
           }
          ],
          "carpet": [
           {
            "aaxis": {
             "endlinecolor": "#2a3f5f",
             "gridcolor": "white",
             "linecolor": "white",
             "minorgridcolor": "white",
             "startlinecolor": "#2a3f5f"
            },
            "baxis": {
             "endlinecolor": "#2a3f5f",
             "gridcolor": "white",
             "linecolor": "white",
             "minorgridcolor": "white",
             "startlinecolor": "#2a3f5f"
            },
            "type": "carpet"
           }
          ],
          "choropleth": [
           {
            "colorbar": {
             "outlinewidth": 0,
             "ticks": ""
            },
            "type": "choropleth"
           }
          ],
          "contour": [
           {
            "colorbar": {
             "outlinewidth": 0,
             "ticks": ""
            },
            "colorscale": [
             [
              0,
              "#0d0887"
             ],
             [
              0.1111111111111111,
              "#46039f"
             ],
             [
              0.2222222222222222,
              "#7201a8"
             ],
             [
              0.3333333333333333,
              "#9c179e"
             ],
             [
              0.4444444444444444,
              "#bd3786"
             ],
             [
              0.5555555555555556,
              "#d8576b"
             ],
             [
              0.6666666666666666,
              "#ed7953"
             ],
             [
              0.7777777777777778,
              "#fb9f3a"
             ],
             [
              0.8888888888888888,
              "#fdca26"
             ],
             [
              1,
              "#f0f921"
             ]
            ],
            "type": "contour"
           }
          ],
          "contourcarpet": [
           {
            "colorbar": {
             "outlinewidth": 0,
             "ticks": ""
            },
            "type": "contourcarpet"
           }
          ],
          "heatmap": [
           {
            "colorbar": {
             "outlinewidth": 0,
             "ticks": ""
            },
            "colorscale": [
             [
              0,
              "#0d0887"
             ],
             [
              0.1111111111111111,
              "#46039f"
             ],
             [
              0.2222222222222222,
              "#7201a8"
             ],
             [
              0.3333333333333333,
              "#9c179e"
             ],
             [
              0.4444444444444444,
              "#bd3786"
             ],
             [
              0.5555555555555556,
              "#d8576b"
             ],
             [
              0.6666666666666666,
              "#ed7953"
             ],
             [
              0.7777777777777778,
              "#fb9f3a"
             ],
             [
              0.8888888888888888,
              "#fdca26"
             ],
             [
              1,
              "#f0f921"
             ]
            ],
            "type": "heatmap"
           }
          ],
          "heatmapgl": [
           {
            "colorbar": {
             "outlinewidth": 0,
             "ticks": ""
            },
            "colorscale": [
             [
              0,
              "#0d0887"
             ],
             [
              0.1111111111111111,
              "#46039f"
             ],
             [
              0.2222222222222222,
              "#7201a8"
             ],
             [
              0.3333333333333333,
              "#9c179e"
             ],
             [
              0.4444444444444444,
              "#bd3786"
             ],
             [
              0.5555555555555556,
              "#d8576b"
             ],
             [
              0.6666666666666666,
              "#ed7953"
             ],
             [
              0.7777777777777778,
              "#fb9f3a"
             ],
             [
              0.8888888888888888,
              "#fdca26"
             ],
             [
              1,
              "#f0f921"
             ]
            ],
            "type": "heatmapgl"
           }
          ],
          "histogram": [
           {
            "marker": {
             "colorbar": {
              "outlinewidth": 0,
              "ticks": ""
             }
            },
            "type": "histogram"
           }
          ],
          "histogram2d": [
           {
            "colorbar": {
             "outlinewidth": 0,
             "ticks": ""
            },
            "colorscale": [
             [
              0,
              "#0d0887"
             ],
             [
              0.1111111111111111,
              "#46039f"
             ],
             [
              0.2222222222222222,
              "#7201a8"
             ],
             [
              0.3333333333333333,
              "#9c179e"
             ],
             [
              0.4444444444444444,
              "#bd3786"
             ],
             [
              0.5555555555555556,
              "#d8576b"
             ],
             [
              0.6666666666666666,
              "#ed7953"
             ],
             [
              0.7777777777777778,
              "#fb9f3a"
             ],
             [
              0.8888888888888888,
              "#fdca26"
             ],
             [
              1,
              "#f0f921"
             ]
            ],
            "type": "histogram2d"
           }
          ],
          "histogram2dcontour": [
           {
            "colorbar": {
             "outlinewidth": 0,
             "ticks": ""
            },
            "colorscale": [
             [
              0,
              "#0d0887"
             ],
             [
              0.1111111111111111,
              "#46039f"
             ],
             [
              0.2222222222222222,
              "#7201a8"
             ],
             [
              0.3333333333333333,
              "#9c179e"
             ],
             [
              0.4444444444444444,
              "#bd3786"
             ],
             [
              0.5555555555555556,
              "#d8576b"
             ],
             [
              0.6666666666666666,
              "#ed7953"
             ],
             [
              0.7777777777777778,
              "#fb9f3a"
             ],
             [
              0.8888888888888888,
              "#fdca26"
             ],
             [
              1,
              "#f0f921"
             ]
            ],
            "type": "histogram2dcontour"
           }
          ],
          "mesh3d": [
           {
            "colorbar": {
             "outlinewidth": 0,
             "ticks": ""
            },
            "type": "mesh3d"
           }
          ],
          "parcoords": [
           {
            "line": {
             "colorbar": {
              "outlinewidth": 0,
              "ticks": ""
             }
            },
            "type": "parcoords"
           }
          ],
          "pie": [
           {
            "automargin": true,
            "type": "pie"
           }
          ],
          "scatter": [
           {
            "marker": {
             "colorbar": {
              "outlinewidth": 0,
              "ticks": ""
             }
            },
            "type": "scatter"
           }
          ],
          "scatter3d": [
           {
            "line": {
             "colorbar": {
              "outlinewidth": 0,
              "ticks": ""
             }
            },
            "marker": {
             "colorbar": {
              "outlinewidth": 0,
              "ticks": ""
             }
            },
            "type": "scatter3d"
           }
          ],
          "scattercarpet": [
           {
            "marker": {
             "colorbar": {
              "outlinewidth": 0,
              "ticks": ""
             }
            },
            "type": "scattercarpet"
           }
          ],
          "scattergeo": [
           {
            "marker": {
             "colorbar": {
              "outlinewidth": 0,
              "ticks": ""
             }
            },
            "type": "scattergeo"
           }
          ],
          "scattergl": [
           {
            "marker": {
             "colorbar": {
              "outlinewidth": 0,
              "ticks": ""
             }
            },
            "type": "scattergl"
           }
          ],
          "scattermapbox": [
           {
            "marker": {
             "colorbar": {
              "outlinewidth": 0,
              "ticks": ""
             }
            },
            "type": "scattermapbox"
           }
          ],
          "scatterpolar": [
           {
            "marker": {
             "colorbar": {
              "outlinewidth": 0,
              "ticks": ""
             }
            },
            "type": "scatterpolar"
           }
          ],
          "scatterpolargl": [
           {
            "marker": {
             "colorbar": {
              "outlinewidth": 0,
              "ticks": ""
             }
            },
            "type": "scatterpolargl"
           }
          ],
          "scatterternary": [
           {
            "marker": {
             "colorbar": {
              "outlinewidth": 0,
              "ticks": ""
             }
            },
            "type": "scatterternary"
           }
          ],
          "surface": [
           {
            "colorbar": {
             "outlinewidth": 0,
             "ticks": ""
            },
            "colorscale": [
             [
              0,
              "#0d0887"
             ],
             [
              0.1111111111111111,
              "#46039f"
             ],
             [
              0.2222222222222222,
              "#7201a8"
             ],
             [
              0.3333333333333333,
              "#9c179e"
             ],
             [
              0.4444444444444444,
              "#bd3786"
             ],
             [
              0.5555555555555556,
              "#d8576b"
             ],
             [
              0.6666666666666666,
              "#ed7953"
             ],
             [
              0.7777777777777778,
              "#fb9f3a"
             ],
             [
              0.8888888888888888,
              "#fdca26"
             ],
             [
              1,
              "#f0f921"
             ]
            ],
            "type": "surface"
           }
          ],
          "table": [
           {
            "cells": {
             "fill": {
              "color": "#EBF0F8"
             },
             "line": {
              "color": "white"
             }
            },
            "header": {
             "fill": {
              "color": "#C8D4E3"
             },
             "line": {
              "color": "white"
             }
            },
            "type": "table"
           }
          ]
         },
         "layout": {
          "annotationdefaults": {
           "arrowcolor": "#2a3f5f",
           "arrowhead": 0,
           "arrowwidth": 1
          },
          "autotypenumbers": "strict",
          "coloraxis": {
           "colorbar": {
            "outlinewidth": 0,
            "ticks": ""
           }
          },
          "colorscale": {
           "diverging": [
            [
             0,
             "#8e0152"
            ],
            [
             0.1,
             "#c51b7d"
            ],
            [
             0.2,
             "#de77ae"
            ],
            [
             0.3,
             "#f1b6da"
            ],
            [
             0.4,
             "#fde0ef"
            ],
            [
             0.5,
             "#f7f7f7"
            ],
            [
             0.6,
             "#e6f5d0"
            ],
            [
             0.7,
             "#b8e186"
            ],
            [
             0.8,
             "#7fbc41"
            ],
            [
             0.9,
             "#4d9221"
            ],
            [
             1,
             "#276419"
            ]
           ],
           "sequential": [
            [
             0,
             "#0d0887"
            ],
            [
             0.1111111111111111,
             "#46039f"
            ],
            [
             0.2222222222222222,
             "#7201a8"
            ],
            [
             0.3333333333333333,
             "#9c179e"
            ],
            [
             0.4444444444444444,
             "#bd3786"
            ],
            [
             0.5555555555555556,
             "#d8576b"
            ],
            [
             0.6666666666666666,
             "#ed7953"
            ],
            [
             0.7777777777777778,
             "#fb9f3a"
            ],
            [
             0.8888888888888888,
             "#fdca26"
            ],
            [
             1,
             "#f0f921"
            ]
           ],
           "sequentialminus": [
            [
             0,
             "#0d0887"
            ],
            [
             0.1111111111111111,
             "#46039f"
            ],
            [
             0.2222222222222222,
             "#7201a8"
            ],
            [
             0.3333333333333333,
             "#9c179e"
            ],
            [
             0.4444444444444444,
             "#bd3786"
            ],
            [
             0.5555555555555556,
             "#d8576b"
            ],
            [
             0.6666666666666666,
             "#ed7953"
            ],
            [
             0.7777777777777778,
             "#fb9f3a"
            ],
            [
             0.8888888888888888,
             "#fdca26"
            ],
            [
             1,
             "#f0f921"
            ]
           ]
          },
          "colorway": [
           "#636efa",
           "#EF553B",
           "#00cc96",
           "#ab63fa",
           "#FFA15A",
           "#19d3f3",
           "#FF6692",
           "#B6E880",
           "#FF97FF",
           "#FECB52"
          ],
          "font": {
           "color": "#2a3f5f"
          },
          "geo": {
           "bgcolor": "white",
           "lakecolor": "white",
           "landcolor": "#E5ECF6",
           "showlakes": true,
           "showland": true,
           "subunitcolor": "white"
          },
          "hoverlabel": {
           "align": "left"
          },
          "hovermode": "closest",
          "mapbox": {
           "style": "light"
          },
          "paper_bgcolor": "white",
          "plot_bgcolor": "#E5ECF6",
          "polar": {
           "angularaxis": {
            "gridcolor": "white",
            "linecolor": "white",
            "ticks": ""
           },
           "bgcolor": "#E5ECF6",
           "radialaxis": {
            "gridcolor": "white",
            "linecolor": "white",
            "ticks": ""
           }
          },
          "scene": {
           "xaxis": {
            "backgroundcolor": "#E5ECF6",
            "gridcolor": "white",
            "gridwidth": 2,
            "linecolor": "white",
            "showbackground": true,
            "ticks": "",
            "zerolinecolor": "white"
           },
           "yaxis": {
            "backgroundcolor": "#E5ECF6",
            "gridcolor": "white",
            "gridwidth": 2,
            "linecolor": "white",
            "showbackground": true,
            "ticks": "",
            "zerolinecolor": "white"
           },
           "zaxis": {
            "backgroundcolor": "#E5ECF6",
            "gridcolor": "white",
            "gridwidth": 2,
            "linecolor": "white",
            "showbackground": true,
            "ticks": "",
            "zerolinecolor": "white"
           }
          },
          "shapedefaults": {
           "line": {
            "color": "#2a3f5f"
           }
          },
          "ternary": {
           "aaxis": {
            "gridcolor": "white",
            "linecolor": "white",
            "ticks": ""
           },
           "baxis": {
            "gridcolor": "white",
            "linecolor": "white",
            "ticks": ""
           },
           "bgcolor": "#E5ECF6",
           "caxis": {
            "gridcolor": "white",
            "linecolor": "white",
            "ticks": ""
           }
          },
          "title": {
           "x": 0.05
          },
          "xaxis": {
           "automargin": true,
           "gridcolor": "white",
           "linecolor": "white",
           "ticks": "",
           "title": {
            "standoff": 15
           },
           "zerolinecolor": "white",
           "zerolinewidth": 2
          },
          "yaxis": {
           "automargin": true,
           "gridcolor": "white",
           "linecolor": "white",
           "ticks": "",
           "title": {
            "standoff": 15
           },
           "zerolinecolor": "white",
           "zerolinewidth": 2
          }
         }
        },
        "title": {
         "text": "North America, Europe, Japan and Other Sales of Top 100 Video Games"
        },
        "xaxis": {
         "gridcolor": "white",
         "ticklen": 5,
         "title": {
          "text": "Rank"
         },
         "zeroline": false,
         "zerolinewidth": 1
        },
        "yaxis": {
         "gridcolor": "white",
         "ticklen": 5,
         "title": {
          "text": "Sales(In Millions)"
         },
         "zeroline": false,
         "zerolinewidth": 1
        }
       }
      },
      "text/html": [
       "<div>                            <div id=\"7503efb0-07d5-4fcf-aad6-f7072a650846\" class=\"plotly-graph-div\" style=\"height:525px; width:100%;\"></div>            <script type=\"text/javascript\">                require([\"plotly\"], function(Plotly) {                    window.PLOTLYENV=window.PLOTLYENV || {};                                    if (document.getElementById(\"7503efb0-07d5-4fcf-aad6-f7072a650846\")) {                    Plotly.newPlot(                        \"7503efb0-07d5-4fcf-aad6-f7072a650846\",                        [{\"marker\": {\"color\": \"rgba(28, 149, 249, 0.8)\", \"size\": 8}, \"mode\": \"markers\", \"name\": \"North America\", \"text\": [\"Wii Sports\", \"Super Mario Bros.\", \"Mario Kart Wii\", \"Wii Sports Resort\", \"Pokemon Red/Pokemon Blue\", \"Tetris\", \"New Super Mario Bros.\", \"Wii Play\", \"New Super Mario Bros. Wii\", \"Duck Hunt\", \"Nintendogs\", \"Mario Kart DS\", \"Pokemon Gold/Pokemon Silver\", \"Wii Fit\", \"Wii Fit Plus\", \"Kinect Adventures!\", \"Grand Theft Auto V\", \"Grand Theft Auto: San Andreas\", \"Super Mario World\", \"Brain Age: Train Your Brain in Minutes a Day\", \"Pokemon Diamond/Pokemon Pearl\", \"Super Mario Land\", \"Super Mario Bros. 3\", \"Grand Theft Auto V\", \"Grand Theft Auto: Vice City\", \"Pokemon Ruby/Pokemon Sapphire\", \"Pokemon Black/Pokemon White\", \"Brain Age 2: More Training in Minutes a Day\", \"Gran Turismo 3: A-Spec\", \"Call of Duty: Modern Warfare 3\", \"Pok\\u00e9mon Yellow: Special Pikachu Edition\", \"Call of Duty: Black Ops\", \"Pokemon X/Pokemon Y\", \"Call of Duty: Black Ops 3\", \"Call of Duty: Black Ops II\", \"Call of Duty: Black Ops II\", \"Call of Duty: Modern Warfare 2\", \"Call of Duty: Modern Warfare 3\", \"Grand Theft Auto III\", \"Super Smash Bros. Brawl\", \"Call of Duty: Black Ops\", \"Animal Crossing: Wild World\", \"Mario Kart 7\", \"Halo 3\", \"Grand Theft Auto V\", \"Pokemon HeartGold/Pokemon SoulSilver\", \"Super Mario 64\", \"Gran Turismo 4\", \"Super Mario Galaxy\", \"Pokemon Omega Ruby/Pokemon Alpha Sapphire\", \"Super Mario Land 2: 6 Golden Coins\", \"Grand Theft Auto IV\", \"Gran Turismo\", \"Super Mario 3D Land\", \"Gran Turismo 5\", \"Call of Duty: Modern Warfare 2\", \"Grand Theft Auto IV\", \"Super Mario All-Stars\", \"Pokemon FireRed/Pokemon LeafGreen\", \"Super Mario 64\", \"Just Dance 3\", \"Call of Duty: Ghosts\", \"Halo: Reach\", \"Mario Kart 64\", \"New Super Mario Bros. 2\", \"Halo 4\", \"Final Fantasy VII\", \"Call of Duty: Ghosts\", \"Just Dance 2\", \"Gran Turismo 2\", \"Call of Duty 4: Modern Warfare\", \"Donkey Kong Country\", \"Minecraft\", \"Animal Crossing: New Leaf\", \"Mario Party DS\", \"The Elder Scrolls V: Skyrim\", \"Super Mario Kart\", \"FIFA 16\", \"Wii Party\", \"Halo 2\", \"Mario Party 8\", \"Pokemon Black 2/Pokemon White 2\", \"FIFA Soccer 13\", \"The Sims 3\", \"GoldenEye 007\", \"Mario & Sonic at the Olympic Games\", \"Final Fantasy X\", \"Final Fantasy VIII\", \"Pok\\u00e9mon Platinum Version\", \"Pac-Man\", \"Grand Theft Auto: Liberty City Stories\", \"Super Mario Galaxy 2\", \"Star Wars Battlefront (2015)\", \"Call of Duty: Advanced Warfare\", \"The Legend of Zelda: Ocarina of Time\", \"Crash Bandicoot 2: Cortex Strikes Back\", \"Super Mario Bros. 2\", \"Super Smash Bros. for Wii U and 3DS\", \"Call of Duty: World at War\", \"Battlefield 3\"], \"type\": \"scatter\", \"x\": [1, 2, 3, 4, 5, 6, 7, 8, 9, 10, 11, 12, 13, 14, 15, 16, 17, 18, 19, 20, 21, 22, 23, 24, 25, 26, 27, 28, 29, 30, 31, 32, 33, 34, 35, 36, 37, 38, 39, 40, 41, 42, 43, 44, 45, 46, 47, 48, 49, 50, 51, 52, 53, 54, 55, 56, 57, 58, 59, 60, 61, 62, 63, 64, 65, 66, 67, 68, 69, 70, 71, 72, 73, 74, 75, 76, 77, 78, 79, 80, 81, 82, 83, 84, 85, 86, 87, 88, 89, 90, 91, 92, 93, 94, 95, 96, 97, 98, 99, 100], \"y\": [41.49, 29.08, 15.85, 15.75, 11.27, 23.2, 11.38, 14.03, 14.59, 26.93, 9.07, 9.81, 9.0, 8.94, 9.09, 14.97, 7.01, 9.43, 12.78, 4.75, 6.42, 10.83, 9.54, 9.63, 8.41, 6.06, 5.57, 3.44, 6.85, 9.03, 5.89, 9.67, 5.17, 5.77, 4.99, 8.25, 8.52, 5.54, 6.99, 6.75, 5.98, 2.55, 4.74, 7.97, 3.8, 4.4, 6.91, 3.01, 6.16, 4.23, 6.16, 6.76, 4.02, 4.89, 2.96, 4.99, 4.76, 5.99, 4.34, 5.08, 6.05, 6.72, 7.03, 5.55, 3.66, 6.63, 3.01, 4.09, 5.84, 3.88, 5.91, 4.36, 5.58, 2.01, 4.46, 5.03, 3.54, 1.11, 1.79, 6.82, 3.81, 2.91, 1.06, 0.98, 5.8, 2.58, 2.91, 2.28, 2.82, 7.28, 2.9, 3.66, 2.93, 2.8, 4.1, 3.78, 5.39, 3.24, 4.79, 4.46]}, {\"marker\": {\"color\": \"rgba(249, 94, 28, 0.8)\", \"size\": 8}, \"mode\": \"markers\", \"name\": \"Europe\", \"text\": [\"Wii Sports\", \"Super Mario Bros.\", \"Mario Kart Wii\", \"Wii Sports Resort\", \"Pokemon Red/Pokemon Blue\", \"Tetris\", \"New Super Mario Bros.\", \"Wii Play\", \"New Super Mario Bros. Wii\", \"Duck Hunt\", \"Nintendogs\", \"Mario Kart DS\", \"Pokemon Gold/Pokemon Silver\", \"Wii Fit\", \"Wii Fit Plus\", \"Kinect Adventures!\", \"Grand Theft Auto V\", \"Grand Theft Auto: San Andreas\", \"Super Mario World\", \"Brain Age: Train Your Brain in Minutes a Day\", \"Pokemon Diamond/Pokemon Pearl\", \"Super Mario Land\", \"Super Mario Bros. 3\", \"Grand Theft Auto V\", \"Grand Theft Auto: Vice City\", \"Pokemon Ruby/Pokemon Sapphire\", \"Pokemon Black/Pokemon White\", \"Brain Age 2: More Training in Minutes a Day\", \"Gran Turismo 3: A-Spec\", \"Call of Duty: Modern Warfare 3\", \"Pok\\u00e9mon Yellow: Special Pikachu Edition\", \"Call of Duty: Black Ops\", \"Pokemon X/Pokemon Y\", \"Call of Duty: Black Ops 3\", \"Call of Duty: Black Ops II\", \"Call of Duty: Black Ops II\", \"Call of Duty: Modern Warfare 2\", \"Call of Duty: Modern Warfare 3\", \"Grand Theft Auto III\", \"Super Smash Bros. Brawl\", \"Call of Duty: Black Ops\", \"Animal Crossing: Wild World\", \"Mario Kart 7\", \"Halo 3\", \"Grand Theft Auto V\", \"Pokemon HeartGold/Pokemon SoulSilver\", \"Super Mario 64\", \"Gran Turismo 4\", \"Super Mario Galaxy\", \"Pokemon Omega Ruby/Pokemon Alpha Sapphire\", \"Super Mario Land 2: 6 Golden Coins\", \"Grand Theft Auto IV\", \"Gran Turismo\", \"Super Mario 3D Land\", \"Gran Turismo 5\", \"Call of Duty: Modern Warfare 2\", \"Grand Theft Auto IV\", \"Super Mario All-Stars\", \"Pokemon FireRed/Pokemon LeafGreen\", \"Super Mario 64\", \"Just Dance 3\", \"Call of Duty: Ghosts\", \"Halo: Reach\", \"Mario Kart 64\", \"New Super Mario Bros. 2\", \"Halo 4\", \"Final Fantasy VII\", \"Call of Duty: Ghosts\", \"Just Dance 2\", \"Gran Turismo 2\", \"Call of Duty 4: Modern Warfare\", \"Donkey Kong Country\", \"Minecraft\", \"Animal Crossing: New Leaf\", \"Mario Party DS\", \"The Elder Scrolls V: Skyrim\", \"Super Mario Kart\", \"FIFA 16\", \"Wii Party\", \"Halo 2\", \"Mario Party 8\", \"Pokemon Black 2/Pokemon White 2\", \"FIFA Soccer 13\", \"The Sims 3\", \"GoldenEye 007\", \"Mario & Sonic at the Olympic Games\", \"Final Fantasy X\", \"Final Fantasy VIII\", \"Pok\\u00e9mon Platinum Version\", \"Pac-Man\", \"Grand Theft Auto: Liberty City Stories\", \"Super Mario Galaxy 2\", \"Star Wars Battlefront (2015)\", \"Call of Duty: Advanced Warfare\", \"The Legend of Zelda: Ocarina of Time\", \"Crash Bandicoot 2: Cortex Strikes Back\", \"Super Mario Bros. 2\", \"Super Smash Bros. for Wii U and 3DS\", \"Call of Duty: World at War\", \"Battlefield 3\"], \"type\": \"scatter\", \"x\": [1, 2, 3, 4, 5, 6, 7, 8, 9, 10, 11, 12, 13, 14, 15, 16, 17, 18, 19, 20, 21, 22, 23, 24, 25, 26, 27, 28, 29, 30, 31, 32, 33, 34, 35, 36, 37, 38, 39, 40, 41, 42, 43, 44, 45, 46, 47, 48, 49, 50, 51, 52, 53, 54, 55, 56, 57, 58, 59, 60, 61, 62, 63, 64, 65, 66, 67, 68, 69, 70, 71, 72, 73, 74, 75, 76, 77, 78, 79, 80, 81, 82, 83, 84, 85, 86, 87, 88, 89, 90, 91, 92, 93, 94, 95, 96, 97, 98, 99, 100], \"y\": [29.02, 3.58, 12.88, 11.01, 8.89, 2.26, 9.23, 9.2, 7.06, 0.63, 11.0, 7.57, 6.18, 8.03, 8.59, 4.94, 9.27, 0.4, 3.75, 9.26, 4.52, 2.71, 3.44, 5.31, 5.49, 3.9, 3.28, 5.36, 5.09, 4.28, 5.04, 3.73, 4.05, 5.81, 5.88, 4.3, 3.63, 5.82, 4.51, 2.61, 4.44, 3.52, 3.91, 2.83, 5.81, 2.77, 2.85, 0.01, 3.4, 3.37, 2.04, 3.1, 3.87, 2.99, 4.88, 3.69, 3.76, 2.15, 2.65, 3.11, 3.15, 2.63, 1.98, 1.94, 3.07, 2.36, 2.47, 3.73, 2.89, 3.42, 2.38, 1.71, 2.83, 2.32, 1.88, 2.86, 1.24, 6.06, 3.53, 1.53, 2.3, 1.86, 5.05, 6.42, 2.01, 3.9, 2.07, 1.72, 1.78, 0.45, 2.83, 2.42, 3.29, 3.3, 1.89, 2.17, 1.18, 1.35, 1.9, 2.13]}, {\"marker\": {\"color\": \"rgba(150, 26, 80, 0.8)\", \"size\": 8}, \"mode\": \"markers\", \"name\": \"Japan\", \"text\": [\"Wii Sports\", \"Super Mario Bros.\", \"Mario Kart Wii\", \"Wii Sports Resort\", \"Pokemon Red/Pokemon Blue\", \"Tetris\", \"New Super Mario Bros.\", \"Wii Play\", \"New Super Mario Bros. Wii\", \"Duck Hunt\", \"Nintendogs\", \"Mario Kart DS\", \"Pokemon Gold/Pokemon Silver\", \"Wii Fit\", \"Wii Fit Plus\", \"Kinect Adventures!\", \"Grand Theft Auto V\", \"Grand Theft Auto: San Andreas\", \"Super Mario World\", \"Brain Age: Train Your Brain in Minutes a Day\", \"Pokemon Diamond/Pokemon Pearl\", \"Super Mario Land\", \"Super Mario Bros. 3\", \"Grand Theft Auto V\", \"Grand Theft Auto: Vice City\", \"Pokemon Ruby/Pokemon Sapphire\", \"Pokemon Black/Pokemon White\", \"Brain Age 2: More Training in Minutes a Day\", \"Gran Turismo 3: A-Spec\", \"Call of Duty: Modern Warfare 3\", \"Pok\\u00e9mon Yellow: Special Pikachu Edition\", \"Call of Duty: Black Ops\", \"Pokemon X/Pokemon Y\", \"Call of Duty: Black Ops 3\", \"Call of Duty: Black Ops II\", \"Call of Duty: Black Ops II\", \"Call of Duty: Modern Warfare 2\", \"Call of Duty: Modern Warfare 3\", \"Grand Theft Auto III\", \"Super Smash Bros. Brawl\", \"Call of Duty: Black Ops\", \"Animal Crossing: Wild World\", \"Mario Kart 7\", \"Halo 3\", \"Grand Theft Auto V\", \"Pokemon HeartGold/Pokemon SoulSilver\", \"Super Mario 64\", \"Gran Turismo 4\", \"Super Mario Galaxy\", \"Pokemon Omega Ruby/Pokemon Alpha Sapphire\", \"Super Mario Land 2: 6 Golden Coins\", \"Grand Theft Auto IV\", \"Gran Turismo\", \"Super Mario 3D Land\", \"Gran Turismo 5\", \"Call of Duty: Modern Warfare 2\", \"Grand Theft Auto IV\", \"Super Mario All-Stars\", \"Pokemon FireRed/Pokemon LeafGreen\", \"Super Mario 64\", \"Just Dance 3\", \"Call of Duty: Ghosts\", \"Halo: Reach\", \"Mario Kart 64\", \"New Super Mario Bros. 2\", \"Halo 4\", \"Final Fantasy VII\", \"Call of Duty: Ghosts\", \"Just Dance 2\", \"Gran Turismo 2\", \"Call of Duty 4: Modern Warfare\", \"Donkey Kong Country\", \"Minecraft\", \"Animal Crossing: New Leaf\", \"Mario Party DS\", \"The Elder Scrolls V: Skyrim\", \"Super Mario Kart\", \"FIFA 16\", \"Wii Party\", \"Halo 2\", \"Mario Party 8\", \"Pokemon Black 2/Pokemon White 2\", \"FIFA Soccer 13\", \"The Sims 3\", \"GoldenEye 007\", \"Mario & Sonic at the Olympic Games\", \"Final Fantasy X\", \"Final Fantasy VIII\", \"Pok\\u00e9mon Platinum Version\", \"Pac-Man\", \"Grand Theft Auto: Liberty City Stories\", \"Super Mario Galaxy 2\", \"Star Wars Battlefront (2015)\", \"Call of Duty: Advanced Warfare\", \"The Legend of Zelda: Ocarina of Time\", \"Crash Bandicoot 2: Cortex Strikes Back\", \"Super Mario Bros. 2\", \"Super Smash Bros. for Wii U and 3DS\", \"Call of Duty: World at War\", \"Battlefield 3\"], \"type\": \"scatter\", \"x\": [1, 2, 3, 4, 5, 6, 7, 8, 9, 10, 11, 12, 13, 14, 15, 16, 17, 18, 19, 20, 21, 22, 23, 24, 25, 26, 27, 28, 29, 30, 31, 32, 33, 34, 35, 36, 37, 38, 39, 40, 41, 42, 43, 44, 45, 46, 47, 48, 49, 50, 51, 52, 53, 54, 55, 56, 57, 58, 59, 60, 61, 62, 63, 64, 65, 66, 67, 68, 69, 70, 71, 72, 73, 74, 75, 76, 77, 78, 79, 80, 81, 82, 83, 84, 85, 86, 87, 88, 89, 90, 91, 92, 93, 94, 95, 96, 97, 98, 99, 100], \"y\": [3.77, 6.81, 3.79, 3.28, 10.22, 4.22, 6.5, 2.93, 4.7, 0.28, 1.93, 4.13, 7.2, 3.6, 2.53, 0.24, 0.97, 0.41, 3.54, 4.16, 6.04, 4.18, 3.84, 0.06, 0.47, 5.38, 5.65, 5.32, 1.87, 0.13, 3.12, 0.11, 4.34, 0.35, 0.65, 0.07, 0.08, 0.49, 0.3, 2.66, 0.48, 5.33, 2.67, 0.13, 0.36, 3.96, 1.91, 1.1, 1.2, 3.08, 2.69, 0.14, 2.54, 2.13, 0.81, 0.38, 0.44, 2.12, 3.15, 1.25, 0.0, 0.04, 0.08, 2.23, 2.47, 0.04, 3.28, 0.38, 0.01, 1.69, 0.13, 3.0, 0.02, 4.36, 1.98, 0.1, 3.81, 0.06, 2.49, 0.05, 1.58, 3.14, 0.13, 0.0, 0.13, 0.66, 2.73, 3.63, 2.69, 0.0, 0.24, 0.98, 0.22, 0.14, 1.45, 1.31, 0.7, 2.42, 0.0, 0.06]}, {\"marker\": {\"color\": \"green\", \"size\": 8}, \"mode\": \"markers\", \"name\": \"Other\", \"text\": [\"Wii Sports\", \"Super Mario Bros.\", \"Mario Kart Wii\", \"Wii Sports Resort\", \"Pokemon Red/Pokemon Blue\", \"Tetris\", \"New Super Mario Bros.\", \"Wii Play\", \"New Super Mario Bros. Wii\", \"Duck Hunt\", \"Nintendogs\", \"Mario Kart DS\", \"Pokemon Gold/Pokemon Silver\", \"Wii Fit\", \"Wii Fit Plus\", \"Kinect Adventures!\", \"Grand Theft Auto V\", \"Grand Theft Auto: San Andreas\", \"Super Mario World\", \"Brain Age: Train Your Brain in Minutes a Day\", \"Pokemon Diamond/Pokemon Pearl\", \"Super Mario Land\", \"Super Mario Bros. 3\", \"Grand Theft Auto V\", \"Grand Theft Auto: Vice City\", \"Pokemon Ruby/Pokemon Sapphire\", \"Pokemon Black/Pokemon White\", \"Brain Age 2: More Training in Minutes a Day\", \"Gran Turismo 3: A-Spec\", \"Call of Duty: Modern Warfare 3\", \"Pok\\u00e9mon Yellow: Special Pikachu Edition\", \"Call of Duty: Black Ops\", \"Pokemon X/Pokemon Y\", \"Call of Duty: Black Ops 3\", \"Call of Duty: Black Ops II\", \"Call of Duty: Black Ops II\", \"Call of Duty: Modern Warfare 2\", \"Call of Duty: Modern Warfare 3\", \"Grand Theft Auto III\", \"Super Smash Bros. Brawl\", \"Call of Duty: Black Ops\", \"Animal Crossing: Wild World\", \"Mario Kart 7\", \"Halo 3\", \"Grand Theft Auto V\", \"Pokemon HeartGold/Pokemon SoulSilver\", \"Super Mario 64\", \"Gran Turismo 4\", \"Super Mario Galaxy\", \"Pokemon Omega Ruby/Pokemon Alpha Sapphire\", \"Super Mario Land 2: 6 Golden Coins\", \"Grand Theft Auto IV\", \"Gran Turismo\", \"Super Mario 3D Land\", \"Gran Turismo 5\", \"Call of Duty: Modern Warfare 2\", \"Grand Theft Auto IV\", \"Super Mario All-Stars\", \"Pokemon FireRed/Pokemon LeafGreen\", \"Super Mario 64\", \"Just Dance 3\", \"Call of Duty: Ghosts\", \"Halo: Reach\", \"Mario Kart 64\", \"New Super Mario Bros. 2\", \"Halo 4\", \"Final Fantasy VII\", \"Call of Duty: Ghosts\", \"Just Dance 2\", \"Gran Turismo 2\", \"Call of Duty 4: Modern Warfare\", \"Donkey Kong Country\", \"Minecraft\", \"Animal Crossing: New Leaf\", \"Mario Party DS\", \"The Elder Scrolls V: Skyrim\", \"Super Mario Kart\", \"FIFA 16\", \"Wii Party\", \"Halo 2\", \"Mario Party 8\", \"Pokemon Black 2/Pokemon White 2\", \"FIFA Soccer 13\", \"The Sims 3\", \"GoldenEye 007\", \"Mario & Sonic at the Olympic Games\", \"Final Fantasy X\", \"Final Fantasy VIII\", \"Pok\\u00e9mon Platinum Version\", \"Pac-Man\", \"Grand Theft Auto: Liberty City Stories\", \"Super Mario Galaxy 2\", \"Star Wars Battlefront (2015)\", \"Call of Duty: Advanced Warfare\", \"The Legend of Zelda: Ocarina of Time\", \"Crash Bandicoot 2: Cortex Strikes Back\", \"Super Mario Bros. 2\", \"Super Smash Bros. for Wii U and 3DS\", \"Call of Duty: World at War\", \"Battlefield 3\"], \"type\": \"scatter\", \"x\": [1, 2, 3, 4, 5, 6, 7, 8, 9, 10, 11, 12, 13, 14, 15, 16, 17, 18, 19, 20, 21, 22, 23, 24, 25, 26, 27, 28, 29, 30, 31, 32, 33, 34, 35, 36, 37, 38, 39, 40, 41, 42, 43, 44, 45, 46, 47, 48, 49, 50, 51, 52, 53, 54, 55, 56, 57, 58, 59, 60, 61, 62, 63, 64, 65, 66, 67, 68, 69, 70, 71, 72, 73, 74, 75, 76, 77, 78, 79, 80, 81, 82, 83, 84, 85, 86, 87, 88, 89, 90, 91, 92, 93, 94, 95, 96, 97, 98, 99, 100], \"y\": [8.46, 0.77, 3.31, 2.96, 1.0, 0.58, 2.9, 2.85, 2.26, 0.47, 2.75, 1.92, 0.71, 2.15, 1.79, 1.67, 4.14, 10.57, 0.55, 2.05, 1.37, 0.42, 0.46, 1.38, 1.78, 0.5, 0.82, 1.18, 1.16, 1.32, 0.59, 1.13, 0.79, 2.31, 2.52, 1.12, 1.29, 1.62, 1.3, 1.02, 1.83, 0.88, 0.89, 1.21, 2.02, 0.77, 0.23, 7.53, 0.76, 0.65, 0.29, 1.03, 0.52, 0.78, 2.12, 1.63, 1.62, 0.29, 0.35, 0.98, 1.07, 0.82, 0.78, 0.15, 0.63, 0.73, 0.96, 1.38, 0.78, 0.5, 0.9, 0.23, 0.77, 0.41, 0.7, 0.85, 0.18, 1.26, 0.68, 0.08, 0.73, 0.43, 2.01, 0.71, 0.15, 0.91, 0.33, 0.23, 0.55, 0.08, 1.75, 0.64, 1.23, 1.37, 0.16, 0.31, 0.19, 0.43, 0.69, 0.69]}],                        {\"paper_bgcolor\": \"rgb(243, 243, 243)\", \"plot_bgcolor\": \"rgb(243, 243, 243)\", \"template\": {\"data\": {\"bar\": [{\"error_x\": {\"color\": \"#2a3f5f\"}, \"error_y\": {\"color\": \"#2a3f5f\"}, \"marker\": {\"line\": {\"color\": \"#E5ECF6\", \"width\": 0.5}}, \"type\": \"bar\"}], \"barpolar\": [{\"marker\": {\"line\": {\"color\": \"#E5ECF6\", \"width\": 0.5}}, \"type\": \"barpolar\"}], \"carpet\": [{\"aaxis\": {\"endlinecolor\": \"#2a3f5f\", \"gridcolor\": \"white\", \"linecolor\": \"white\", \"minorgridcolor\": \"white\", \"startlinecolor\": \"#2a3f5f\"}, \"baxis\": {\"endlinecolor\": \"#2a3f5f\", \"gridcolor\": \"white\", \"linecolor\": \"white\", \"minorgridcolor\": \"white\", \"startlinecolor\": \"#2a3f5f\"}, \"type\": \"carpet\"}], \"choropleth\": [{\"colorbar\": {\"outlinewidth\": 0, \"ticks\": \"\"}, \"type\": \"choropleth\"}], \"contour\": [{\"colorbar\": {\"outlinewidth\": 0, \"ticks\": \"\"}, \"colorscale\": [[0.0, \"#0d0887\"], [0.1111111111111111, \"#46039f\"], [0.2222222222222222, \"#7201a8\"], [0.3333333333333333, \"#9c179e\"], [0.4444444444444444, \"#bd3786\"], [0.5555555555555556, \"#d8576b\"], [0.6666666666666666, \"#ed7953\"], [0.7777777777777778, \"#fb9f3a\"], [0.8888888888888888, \"#fdca26\"], [1.0, \"#f0f921\"]], \"type\": \"contour\"}], \"contourcarpet\": [{\"colorbar\": {\"outlinewidth\": 0, \"ticks\": \"\"}, \"type\": \"contourcarpet\"}], \"heatmap\": [{\"colorbar\": {\"outlinewidth\": 0, \"ticks\": \"\"}, \"colorscale\": [[0.0, \"#0d0887\"], [0.1111111111111111, \"#46039f\"], [0.2222222222222222, \"#7201a8\"], [0.3333333333333333, \"#9c179e\"], [0.4444444444444444, \"#bd3786\"], [0.5555555555555556, \"#d8576b\"], [0.6666666666666666, \"#ed7953\"], [0.7777777777777778, \"#fb9f3a\"], [0.8888888888888888, \"#fdca26\"], [1.0, \"#f0f921\"]], \"type\": \"heatmap\"}], \"heatmapgl\": [{\"colorbar\": {\"outlinewidth\": 0, \"ticks\": \"\"}, \"colorscale\": [[0.0, \"#0d0887\"], [0.1111111111111111, \"#46039f\"], [0.2222222222222222, \"#7201a8\"], [0.3333333333333333, \"#9c179e\"], [0.4444444444444444, \"#bd3786\"], [0.5555555555555556, \"#d8576b\"], [0.6666666666666666, \"#ed7953\"], [0.7777777777777778, \"#fb9f3a\"], [0.8888888888888888, \"#fdca26\"], [1.0, \"#f0f921\"]], \"type\": \"heatmapgl\"}], \"histogram\": [{\"marker\": {\"colorbar\": {\"outlinewidth\": 0, \"ticks\": \"\"}}, \"type\": \"histogram\"}], \"histogram2d\": [{\"colorbar\": {\"outlinewidth\": 0, \"ticks\": \"\"}, \"colorscale\": [[0.0, \"#0d0887\"], [0.1111111111111111, \"#46039f\"], [0.2222222222222222, \"#7201a8\"], [0.3333333333333333, \"#9c179e\"], [0.4444444444444444, \"#bd3786\"], [0.5555555555555556, \"#d8576b\"], [0.6666666666666666, \"#ed7953\"], [0.7777777777777778, \"#fb9f3a\"], [0.8888888888888888, \"#fdca26\"], [1.0, \"#f0f921\"]], \"type\": \"histogram2d\"}], \"histogram2dcontour\": [{\"colorbar\": {\"outlinewidth\": 0, \"ticks\": \"\"}, \"colorscale\": [[0.0, \"#0d0887\"], [0.1111111111111111, \"#46039f\"], [0.2222222222222222, \"#7201a8\"], [0.3333333333333333, \"#9c179e\"], [0.4444444444444444, \"#bd3786\"], [0.5555555555555556, \"#d8576b\"], [0.6666666666666666, \"#ed7953\"], [0.7777777777777778, \"#fb9f3a\"], [0.8888888888888888, \"#fdca26\"], [1.0, \"#f0f921\"]], \"type\": \"histogram2dcontour\"}], \"mesh3d\": [{\"colorbar\": {\"outlinewidth\": 0, \"ticks\": \"\"}, \"type\": \"mesh3d\"}], \"parcoords\": [{\"line\": {\"colorbar\": {\"outlinewidth\": 0, \"ticks\": \"\"}}, \"type\": \"parcoords\"}], \"pie\": [{\"automargin\": true, \"type\": \"pie\"}], \"scatter\": [{\"marker\": {\"colorbar\": {\"outlinewidth\": 0, \"ticks\": \"\"}}, \"type\": \"scatter\"}], \"scatter3d\": [{\"line\": {\"colorbar\": {\"outlinewidth\": 0, \"ticks\": \"\"}}, \"marker\": {\"colorbar\": {\"outlinewidth\": 0, \"ticks\": \"\"}}, \"type\": \"scatter3d\"}], \"scattercarpet\": [{\"marker\": {\"colorbar\": {\"outlinewidth\": 0, \"ticks\": \"\"}}, \"type\": \"scattercarpet\"}], \"scattergeo\": [{\"marker\": {\"colorbar\": {\"outlinewidth\": 0, \"ticks\": \"\"}}, \"type\": \"scattergeo\"}], \"scattergl\": [{\"marker\": {\"colorbar\": {\"outlinewidth\": 0, \"ticks\": \"\"}}, \"type\": \"scattergl\"}], \"scattermapbox\": [{\"marker\": {\"colorbar\": {\"outlinewidth\": 0, \"ticks\": \"\"}}, \"type\": \"scattermapbox\"}], \"scatterpolar\": [{\"marker\": {\"colorbar\": {\"outlinewidth\": 0, \"ticks\": \"\"}}, \"type\": \"scatterpolar\"}], \"scatterpolargl\": [{\"marker\": {\"colorbar\": {\"outlinewidth\": 0, \"ticks\": \"\"}}, \"type\": \"scatterpolargl\"}], \"scatterternary\": [{\"marker\": {\"colorbar\": {\"outlinewidth\": 0, \"ticks\": \"\"}}, \"type\": \"scatterternary\"}], \"surface\": [{\"colorbar\": {\"outlinewidth\": 0, \"ticks\": \"\"}, \"colorscale\": [[0.0, \"#0d0887\"], [0.1111111111111111, \"#46039f\"], [0.2222222222222222, \"#7201a8\"], [0.3333333333333333, \"#9c179e\"], [0.4444444444444444, \"#bd3786\"], [0.5555555555555556, \"#d8576b\"], [0.6666666666666666, \"#ed7953\"], [0.7777777777777778, \"#fb9f3a\"], [0.8888888888888888, \"#fdca26\"], [1.0, \"#f0f921\"]], \"type\": \"surface\"}], \"table\": [{\"cells\": {\"fill\": {\"color\": \"#EBF0F8\"}, \"line\": {\"color\": \"white\"}}, \"header\": {\"fill\": {\"color\": \"#C8D4E3\"}, \"line\": {\"color\": \"white\"}}, \"type\": \"table\"}]}, \"layout\": {\"annotationdefaults\": {\"arrowcolor\": \"#2a3f5f\", \"arrowhead\": 0, \"arrowwidth\": 1}, \"autotypenumbers\": \"strict\", \"coloraxis\": {\"colorbar\": {\"outlinewidth\": 0, \"ticks\": \"\"}}, \"colorscale\": {\"diverging\": [[0, \"#8e0152\"], [0.1, \"#c51b7d\"], [0.2, \"#de77ae\"], [0.3, \"#f1b6da\"], [0.4, \"#fde0ef\"], [0.5, \"#f7f7f7\"], [0.6, \"#e6f5d0\"], [0.7, \"#b8e186\"], [0.8, \"#7fbc41\"], [0.9, \"#4d9221\"], [1, \"#276419\"]], \"sequential\": [[0.0, \"#0d0887\"], [0.1111111111111111, \"#46039f\"], [0.2222222222222222, \"#7201a8\"], [0.3333333333333333, \"#9c179e\"], [0.4444444444444444, \"#bd3786\"], [0.5555555555555556, \"#d8576b\"], [0.6666666666666666, \"#ed7953\"], [0.7777777777777778, \"#fb9f3a\"], [0.8888888888888888, \"#fdca26\"], [1.0, \"#f0f921\"]], \"sequentialminus\": [[0.0, \"#0d0887\"], [0.1111111111111111, \"#46039f\"], [0.2222222222222222, \"#7201a8\"], [0.3333333333333333, \"#9c179e\"], [0.4444444444444444, \"#bd3786\"], [0.5555555555555556, \"#d8576b\"], [0.6666666666666666, \"#ed7953\"], [0.7777777777777778, \"#fb9f3a\"], [0.8888888888888888, \"#fdca26\"], [1.0, \"#f0f921\"]]}, \"colorway\": [\"#636efa\", \"#EF553B\", \"#00cc96\", \"#ab63fa\", \"#FFA15A\", \"#19d3f3\", \"#FF6692\", \"#B6E880\", \"#FF97FF\", \"#FECB52\"], \"font\": {\"color\": \"#2a3f5f\"}, \"geo\": {\"bgcolor\": \"white\", \"lakecolor\": \"white\", \"landcolor\": \"#E5ECF6\", \"showlakes\": true, \"showland\": true, \"subunitcolor\": \"white\"}, \"hoverlabel\": {\"align\": \"left\"}, \"hovermode\": \"closest\", \"mapbox\": {\"style\": \"light\"}, \"paper_bgcolor\": \"white\", \"plot_bgcolor\": \"#E5ECF6\", \"polar\": {\"angularaxis\": {\"gridcolor\": \"white\", \"linecolor\": \"white\", \"ticks\": \"\"}, \"bgcolor\": \"#E5ECF6\", \"radialaxis\": {\"gridcolor\": \"white\", \"linecolor\": \"white\", \"ticks\": \"\"}}, \"scene\": {\"xaxis\": {\"backgroundcolor\": \"#E5ECF6\", \"gridcolor\": \"white\", \"gridwidth\": 2, \"linecolor\": \"white\", \"showbackground\": true, \"ticks\": \"\", \"zerolinecolor\": \"white\"}, \"yaxis\": {\"backgroundcolor\": \"#E5ECF6\", \"gridcolor\": \"white\", \"gridwidth\": 2, \"linecolor\": \"white\", \"showbackground\": true, \"ticks\": \"\", \"zerolinecolor\": \"white\"}, \"zaxis\": {\"backgroundcolor\": \"#E5ECF6\", \"gridcolor\": \"white\", \"gridwidth\": 2, \"linecolor\": \"white\", \"showbackground\": true, \"ticks\": \"\", \"zerolinecolor\": \"white\"}}, \"shapedefaults\": {\"line\": {\"color\": \"#2a3f5f\"}}, \"ternary\": {\"aaxis\": {\"gridcolor\": \"white\", \"linecolor\": \"white\", \"ticks\": \"\"}, \"baxis\": {\"gridcolor\": \"white\", \"linecolor\": \"white\", \"ticks\": \"\"}, \"bgcolor\": \"#E5ECF6\", \"caxis\": {\"gridcolor\": \"white\", \"linecolor\": \"white\", \"ticks\": \"\"}}, \"title\": {\"x\": 0.05}, \"xaxis\": {\"automargin\": true, \"gridcolor\": \"white\", \"linecolor\": \"white\", \"ticks\": \"\", \"title\": {\"standoff\": 15}, \"zerolinecolor\": \"white\", \"zerolinewidth\": 2}, \"yaxis\": {\"automargin\": true, \"gridcolor\": \"white\", \"linecolor\": \"white\", \"ticks\": \"\", \"title\": {\"standoff\": 15}, \"zerolinecolor\": \"white\", \"zerolinewidth\": 2}}}, \"title\": {\"text\": \"North America, Europe, Japan and Other Sales of Top 100 Video Games\"}, \"xaxis\": {\"gridcolor\": \"white\", \"ticklen\": 5, \"title\": {\"text\": \"Rank\"}, \"zeroline\": false, \"zerolinewidth\": 1}, \"yaxis\": {\"gridcolor\": \"white\", \"ticklen\": 5, \"title\": {\"text\": \"Sales(In Millions)\"}, \"zeroline\": false, \"zerolinewidth\": 1}},                        {\"responsive\": true}                    ).then(function(){\n",
       "                            \n",
       "var gd = document.getElementById('7503efb0-07d5-4fcf-aad6-f7072a650846');\n",
       "var x = new MutationObserver(function (mutations, observer) {{\n",
       "        var display = window.getComputedStyle(gd).display;\n",
       "        if (!display || display === 'none') {{\n",
       "            console.log([gd, 'removed!']);\n",
       "            Plotly.purge(gd);\n",
       "            observer.disconnect();\n",
       "        }}\n",
       "}});\n",
       "\n",
       "// Listen for the removal of the full notebook cells\n",
       "var notebookContainer = gd.closest('#notebook-container');\n",
       "if (notebookContainer) {{\n",
       "    x.observe(notebookContainer, {childList: true});\n",
       "}}\n",
       "\n",
       "// Listen for the clearing of the current output cell\n",
       "var outputEl = gd.closest('.output');\n",
       "if (outputEl) {{\n",
       "    x.observe(outputEl, {childList: true});\n",
       "}}\n",
       "\n",
       "                        })                };                });            </script>        </div>"
      ]
     },
     "metadata": {},
     "output_type": "display_data"
    }
   ],
   "source": [
    "trace1 = go.Scatter(\n",
    "                    x = top100.Rank,\n",
    "                    y = top100.NA_Sales,\n",
    "                    mode = \"markers\",\n",
    "                    name = \"North America\",\n",
    "                    marker = dict(color = 'rgba(28, 149, 249, 0.8)',size=8),\n",
    "                    text= top100.Name)\n",
    "\n",
    "trace2 = go.Scatter(\n",
    "                    x = top100.Rank,\n",
    "                    y = top100.EU_Sales,\n",
    "                    mode = \"markers\",\n",
    "                    name = \"Europe\",\n",
    "                    marker = dict(color = 'rgba(249, 94, 28, 0.8)',size=8),\n",
    "                    text= top100.Name)\n",
    "trace3 = go.Scatter(\n",
    "                    x = top100.Rank,\n",
    "                    y = top100.JP_Sales,\n",
    "                    mode = \"markers\",\n",
    "                    name = \"Japan\",\n",
    "                    marker = dict(color = 'rgba(150, 26, 80, 0.8)',size=8),\n",
    "                    text= top100.Name)\n",
    "trace4 = go.Scatter(\n",
    "                    x = top100.Rank,\n",
    "                    y = top100.Other_Sales,\n",
    "                    mode = \"markers\",\n",
    "                    name = \"Other\",\n",
    "                    marker = dict(color = 'green',size=8),\n",
    "                    text= top100.Name)\n",
    "                    \n",
    "\n",
    "data = [trace1, trace2,trace3,trace4]\n",
    "layout = dict(title = 'North America, Europe, Japan and Other Sales of Top 100 Video Games',\n",
    "              xaxis= dict(title= 'Rank',ticklen= 5,zeroline= False,zerolinewidth=1,gridcolor=\"white\"),\n",
    "              yaxis= dict(title= 'Sales(In Millions)',ticklen= 5,zeroline= False,zerolinewidth=1,gridcolor=\"white\",),\n",
    "              paper_bgcolor='rgb(243, 243, 243)',\n",
    "              plot_bgcolor='rgb(243, 243, 243)' )\n",
    "fig = dict(data = data, layout = layout)\n",
    "iplot(fig)"
   ]
  },
  {
   "cell_type": "markdown",
   "metadata": {},
   "source": [
    "As we can see, Wii Sports is (by far) the most sold game both in a global perspective as in North America and \n",
    "Europe. This can be cause by two things: It was the first game ever using motion sensor and it came in a bundle\n",
    "with every Wii console sold in those 2 continents. (Wii has sold more than 101 millions of units around the world)\n",
    "\n",
    "Wii Sports is a sports video game developed and published by Nintendo for the Wii video game console. The game was released in North America along with the Wii on November 19, 2006, and was released in Japan, Australia, and Europe the following month.The game is a collection of five sports simulations, designed to demonstrate the motion-sensing capabilities of the Wii Remote. The five sports included are tennis, baseball, bowling, golf and boxing. (resource:Wikipedia)"
   ]
  },
  {
   "cell_type": "markdown",
   "metadata": {},
   "source": [
    "Top 10 ranks as it follows:\n",
    "\n",
    "2- Super Mario Bros. \n",
    "\n",
    "3- Mario Kart Wii,\n",
    "\n",
    "4- Wii Sports Resort,\n",
    "\n",
    "5- Pokemon Red / Pokemon Blue,\n",
    "\n",
    "6- Tetris,\n",
    "\n",
    "7- New Super Mario Bros,\n",
    "\n",
    "8- Wii Play,\n",
    "\n",
    "9- New Super Mario Bros Wii ,\n",
    "\n",
    "10-Duck Hunt"
   ]
  },
  {
   "cell_type": "markdown",
   "metadata": {},
   "source": [
    "Now, lets see wich developer has more games into this top 100:"
   ]
  },
  {
   "cell_type": "code",
   "execution_count": 7,
   "metadata": {},
   "outputs": [
    {
     "data": {
      "application/vnd.plotly.v1+json": {
       "config": {
        "linkText": "Export to plot.ly",
        "plotlyServerURL": "https://plot.ly",
        "showLink": false
       },
       "data": [
        {
         "marker": {
          "color": "crimson",
          "line": {
           "color": "black",
           "width": 2
          }
         },
         "opacity": 0.75,
         "type": "histogram",
         "x": [
          "Nintendo",
          "Nintendo",
          "Nintendo",
          "Nintendo",
          "Nintendo",
          "Nintendo",
          "Nintendo",
          "Nintendo",
          "Nintendo",
          "Nintendo",
          "Nintendo",
          "Nintendo",
          "Nintendo",
          "Nintendo",
          "Nintendo",
          "Microsoft Game Studios",
          "Take-Two Interactive",
          "Take-Two Interactive",
          "Nintendo",
          "Nintendo",
          "Nintendo",
          "Nintendo",
          "Nintendo",
          "Take-Two Interactive",
          "Take-Two Interactive",
          "Nintendo",
          "Nintendo",
          "Nintendo",
          "Sony Computer Entertainment",
          "Activision",
          "Nintendo",
          "Activision",
          "Nintendo",
          "Activision",
          "Activision",
          "Activision",
          "Activision",
          "Activision",
          "Take-Two Interactive",
          "Nintendo",
          "Activision",
          "Nintendo",
          "Nintendo",
          "Microsoft Game Studios",
          "Take-Two Interactive",
          "Nintendo",
          "Nintendo",
          "Sony Computer Entertainment",
          "Nintendo",
          "Nintendo",
          "Nintendo",
          "Take-Two Interactive",
          "Sony Computer Entertainment",
          "Nintendo",
          "Sony Computer Entertainment",
          "Activision",
          "Take-Two Interactive",
          "Nintendo",
          "Nintendo",
          "Nintendo",
          "Ubisoft",
          "Activision",
          "Microsoft Game Studios",
          "Nintendo",
          "Nintendo",
          "Microsoft Game Studios",
          "Sony Computer Entertainment",
          "Activision",
          "Ubisoft",
          "Sony Computer Entertainment",
          "Activision",
          "Nintendo",
          "Microsoft Game Studios",
          "Nintendo",
          "Nintendo",
          "Bethesda Softworks",
          "Nintendo",
          "Electronic Arts",
          "Nintendo",
          "Microsoft Game Studios",
          "Nintendo",
          "Nintendo",
          "Electronic Arts",
          "Electronic Arts",
          "Nintendo",
          "Sega",
          "Sony Computer Entertainment",
          "SquareSoft",
          "Nintendo",
          "Atari",
          "Take-Two Interactive",
          "Nintendo",
          "Electronic Arts",
          "Activision",
          "Nintendo",
          "Sony Computer Entertainment",
          "Nintendo",
          "Nintendo",
          "Activision",
          "Electronic Arts"
         ]
        }
       ],
       "layout": {
        "bargap": 0.2,
        "bargroupgap": 0.1,
        "paper_bgcolor": "rgb(243, 243, 243)",
        "plot_bgcolor": "rgb(243, 243, 243)",
        "template": {
         "data": {
          "bar": [
           {
            "error_x": {
             "color": "#2a3f5f"
            },
            "error_y": {
             "color": "#2a3f5f"
            },
            "marker": {
             "line": {
              "color": "#E5ECF6",
              "width": 0.5
             }
            },
            "type": "bar"
           }
          ],
          "barpolar": [
           {
            "marker": {
             "line": {
              "color": "#E5ECF6",
              "width": 0.5
             }
            },
            "type": "barpolar"
           }
          ],
          "carpet": [
           {
            "aaxis": {
             "endlinecolor": "#2a3f5f",
             "gridcolor": "white",
             "linecolor": "white",
             "minorgridcolor": "white",
             "startlinecolor": "#2a3f5f"
            },
            "baxis": {
             "endlinecolor": "#2a3f5f",
             "gridcolor": "white",
             "linecolor": "white",
             "minorgridcolor": "white",
             "startlinecolor": "#2a3f5f"
            },
            "type": "carpet"
           }
          ],
          "choropleth": [
           {
            "colorbar": {
             "outlinewidth": 0,
             "ticks": ""
            },
            "type": "choropleth"
           }
          ],
          "contour": [
           {
            "colorbar": {
             "outlinewidth": 0,
             "ticks": ""
            },
            "colorscale": [
             [
              0,
              "#0d0887"
             ],
             [
              0.1111111111111111,
              "#46039f"
             ],
             [
              0.2222222222222222,
              "#7201a8"
             ],
             [
              0.3333333333333333,
              "#9c179e"
             ],
             [
              0.4444444444444444,
              "#bd3786"
             ],
             [
              0.5555555555555556,
              "#d8576b"
             ],
             [
              0.6666666666666666,
              "#ed7953"
             ],
             [
              0.7777777777777778,
              "#fb9f3a"
             ],
             [
              0.8888888888888888,
              "#fdca26"
             ],
             [
              1,
              "#f0f921"
             ]
            ],
            "type": "contour"
           }
          ],
          "contourcarpet": [
           {
            "colorbar": {
             "outlinewidth": 0,
             "ticks": ""
            },
            "type": "contourcarpet"
           }
          ],
          "heatmap": [
           {
            "colorbar": {
             "outlinewidth": 0,
             "ticks": ""
            },
            "colorscale": [
             [
              0,
              "#0d0887"
             ],
             [
              0.1111111111111111,
              "#46039f"
             ],
             [
              0.2222222222222222,
              "#7201a8"
             ],
             [
              0.3333333333333333,
              "#9c179e"
             ],
             [
              0.4444444444444444,
              "#bd3786"
             ],
             [
              0.5555555555555556,
              "#d8576b"
             ],
             [
              0.6666666666666666,
              "#ed7953"
             ],
             [
              0.7777777777777778,
              "#fb9f3a"
             ],
             [
              0.8888888888888888,
              "#fdca26"
             ],
             [
              1,
              "#f0f921"
             ]
            ],
            "type": "heatmap"
           }
          ],
          "heatmapgl": [
           {
            "colorbar": {
             "outlinewidth": 0,
             "ticks": ""
            },
            "colorscale": [
             [
              0,
              "#0d0887"
             ],
             [
              0.1111111111111111,
              "#46039f"
             ],
             [
              0.2222222222222222,
              "#7201a8"
             ],
             [
              0.3333333333333333,
              "#9c179e"
             ],
             [
              0.4444444444444444,
              "#bd3786"
             ],
             [
              0.5555555555555556,
              "#d8576b"
             ],
             [
              0.6666666666666666,
              "#ed7953"
             ],
             [
              0.7777777777777778,
              "#fb9f3a"
             ],
             [
              0.8888888888888888,
              "#fdca26"
             ],
             [
              1,
              "#f0f921"
             ]
            ],
            "type": "heatmapgl"
           }
          ],
          "histogram": [
           {
            "marker": {
             "colorbar": {
              "outlinewidth": 0,
              "ticks": ""
             }
            },
            "type": "histogram"
           }
          ],
          "histogram2d": [
           {
            "colorbar": {
             "outlinewidth": 0,
             "ticks": ""
            },
            "colorscale": [
             [
              0,
              "#0d0887"
             ],
             [
              0.1111111111111111,
              "#46039f"
             ],
             [
              0.2222222222222222,
              "#7201a8"
             ],
             [
              0.3333333333333333,
              "#9c179e"
             ],
             [
              0.4444444444444444,
              "#bd3786"
             ],
             [
              0.5555555555555556,
              "#d8576b"
             ],
             [
              0.6666666666666666,
              "#ed7953"
             ],
             [
              0.7777777777777778,
              "#fb9f3a"
             ],
             [
              0.8888888888888888,
              "#fdca26"
             ],
             [
              1,
              "#f0f921"
             ]
            ],
            "type": "histogram2d"
           }
          ],
          "histogram2dcontour": [
           {
            "colorbar": {
             "outlinewidth": 0,
             "ticks": ""
            },
            "colorscale": [
             [
              0,
              "#0d0887"
             ],
             [
              0.1111111111111111,
              "#46039f"
             ],
             [
              0.2222222222222222,
              "#7201a8"
             ],
             [
              0.3333333333333333,
              "#9c179e"
             ],
             [
              0.4444444444444444,
              "#bd3786"
             ],
             [
              0.5555555555555556,
              "#d8576b"
             ],
             [
              0.6666666666666666,
              "#ed7953"
             ],
             [
              0.7777777777777778,
              "#fb9f3a"
             ],
             [
              0.8888888888888888,
              "#fdca26"
             ],
             [
              1,
              "#f0f921"
             ]
            ],
            "type": "histogram2dcontour"
           }
          ],
          "mesh3d": [
           {
            "colorbar": {
             "outlinewidth": 0,
             "ticks": ""
            },
            "type": "mesh3d"
           }
          ],
          "parcoords": [
           {
            "line": {
             "colorbar": {
              "outlinewidth": 0,
              "ticks": ""
             }
            },
            "type": "parcoords"
           }
          ],
          "pie": [
           {
            "automargin": true,
            "type": "pie"
           }
          ],
          "scatter": [
           {
            "marker": {
             "colorbar": {
              "outlinewidth": 0,
              "ticks": ""
             }
            },
            "type": "scatter"
           }
          ],
          "scatter3d": [
           {
            "line": {
             "colorbar": {
              "outlinewidth": 0,
              "ticks": ""
             }
            },
            "marker": {
             "colorbar": {
              "outlinewidth": 0,
              "ticks": ""
             }
            },
            "type": "scatter3d"
           }
          ],
          "scattercarpet": [
           {
            "marker": {
             "colorbar": {
              "outlinewidth": 0,
              "ticks": ""
             }
            },
            "type": "scattercarpet"
           }
          ],
          "scattergeo": [
           {
            "marker": {
             "colorbar": {
              "outlinewidth": 0,
              "ticks": ""
             }
            },
            "type": "scattergeo"
           }
          ],
          "scattergl": [
           {
            "marker": {
             "colorbar": {
              "outlinewidth": 0,
              "ticks": ""
             }
            },
            "type": "scattergl"
           }
          ],
          "scattermapbox": [
           {
            "marker": {
             "colorbar": {
              "outlinewidth": 0,
              "ticks": ""
             }
            },
            "type": "scattermapbox"
           }
          ],
          "scatterpolar": [
           {
            "marker": {
             "colorbar": {
              "outlinewidth": 0,
              "ticks": ""
             }
            },
            "type": "scatterpolar"
           }
          ],
          "scatterpolargl": [
           {
            "marker": {
             "colorbar": {
              "outlinewidth": 0,
              "ticks": ""
             }
            },
            "type": "scatterpolargl"
           }
          ],
          "scatterternary": [
           {
            "marker": {
             "colorbar": {
              "outlinewidth": 0,
              "ticks": ""
             }
            },
            "type": "scatterternary"
           }
          ],
          "surface": [
           {
            "colorbar": {
             "outlinewidth": 0,
             "ticks": ""
            },
            "colorscale": [
             [
              0,
              "#0d0887"
             ],
             [
              0.1111111111111111,
              "#46039f"
             ],
             [
              0.2222222222222222,
              "#7201a8"
             ],
             [
              0.3333333333333333,
              "#9c179e"
             ],
             [
              0.4444444444444444,
              "#bd3786"
             ],
             [
              0.5555555555555556,
              "#d8576b"
             ],
             [
              0.6666666666666666,
              "#ed7953"
             ],
             [
              0.7777777777777778,
              "#fb9f3a"
             ],
             [
              0.8888888888888888,
              "#fdca26"
             ],
             [
              1,
              "#f0f921"
             ]
            ],
            "type": "surface"
           }
          ],
          "table": [
           {
            "cells": {
             "fill": {
              "color": "#EBF0F8"
             },
             "line": {
              "color": "white"
             }
            },
            "header": {
             "fill": {
              "color": "#C8D4E3"
             },
             "line": {
              "color": "white"
             }
            },
            "type": "table"
           }
          ]
         },
         "layout": {
          "annotationdefaults": {
           "arrowcolor": "#2a3f5f",
           "arrowhead": 0,
           "arrowwidth": 1
          },
          "autotypenumbers": "strict",
          "coloraxis": {
           "colorbar": {
            "outlinewidth": 0,
            "ticks": ""
           }
          },
          "colorscale": {
           "diverging": [
            [
             0,
             "#8e0152"
            ],
            [
             0.1,
             "#c51b7d"
            ],
            [
             0.2,
             "#de77ae"
            ],
            [
             0.3,
             "#f1b6da"
            ],
            [
             0.4,
             "#fde0ef"
            ],
            [
             0.5,
             "#f7f7f7"
            ],
            [
             0.6,
             "#e6f5d0"
            ],
            [
             0.7,
             "#b8e186"
            ],
            [
             0.8,
             "#7fbc41"
            ],
            [
             0.9,
             "#4d9221"
            ],
            [
             1,
             "#276419"
            ]
           ],
           "sequential": [
            [
             0,
             "#0d0887"
            ],
            [
             0.1111111111111111,
             "#46039f"
            ],
            [
             0.2222222222222222,
             "#7201a8"
            ],
            [
             0.3333333333333333,
             "#9c179e"
            ],
            [
             0.4444444444444444,
             "#bd3786"
            ],
            [
             0.5555555555555556,
             "#d8576b"
            ],
            [
             0.6666666666666666,
             "#ed7953"
            ],
            [
             0.7777777777777778,
             "#fb9f3a"
            ],
            [
             0.8888888888888888,
             "#fdca26"
            ],
            [
             1,
             "#f0f921"
            ]
           ],
           "sequentialminus": [
            [
             0,
             "#0d0887"
            ],
            [
             0.1111111111111111,
             "#46039f"
            ],
            [
             0.2222222222222222,
             "#7201a8"
            ],
            [
             0.3333333333333333,
             "#9c179e"
            ],
            [
             0.4444444444444444,
             "#bd3786"
            ],
            [
             0.5555555555555556,
             "#d8576b"
            ],
            [
             0.6666666666666666,
             "#ed7953"
            ],
            [
             0.7777777777777778,
             "#fb9f3a"
            ],
            [
             0.8888888888888888,
             "#fdca26"
            ],
            [
             1,
             "#f0f921"
            ]
           ]
          },
          "colorway": [
           "#636efa",
           "#EF553B",
           "#00cc96",
           "#ab63fa",
           "#FFA15A",
           "#19d3f3",
           "#FF6692",
           "#B6E880",
           "#FF97FF",
           "#FECB52"
          ],
          "font": {
           "color": "#2a3f5f"
          },
          "geo": {
           "bgcolor": "white",
           "lakecolor": "white",
           "landcolor": "#E5ECF6",
           "showlakes": true,
           "showland": true,
           "subunitcolor": "white"
          },
          "hoverlabel": {
           "align": "left"
          },
          "hovermode": "closest",
          "mapbox": {
           "style": "light"
          },
          "paper_bgcolor": "white",
          "plot_bgcolor": "#E5ECF6",
          "polar": {
           "angularaxis": {
            "gridcolor": "white",
            "linecolor": "white",
            "ticks": ""
           },
           "bgcolor": "#E5ECF6",
           "radialaxis": {
            "gridcolor": "white",
            "linecolor": "white",
            "ticks": ""
           }
          },
          "scene": {
           "xaxis": {
            "backgroundcolor": "#E5ECF6",
            "gridcolor": "white",
            "gridwidth": 2,
            "linecolor": "white",
            "showbackground": true,
            "ticks": "",
            "zerolinecolor": "white"
           },
           "yaxis": {
            "backgroundcolor": "#E5ECF6",
            "gridcolor": "white",
            "gridwidth": 2,
            "linecolor": "white",
            "showbackground": true,
            "ticks": "",
            "zerolinecolor": "white"
           },
           "zaxis": {
            "backgroundcolor": "#E5ECF6",
            "gridcolor": "white",
            "gridwidth": 2,
            "linecolor": "white",
            "showbackground": true,
            "ticks": "",
            "zerolinecolor": "white"
           }
          },
          "shapedefaults": {
           "line": {
            "color": "#2a3f5f"
           }
          },
          "ternary": {
           "aaxis": {
            "gridcolor": "white",
            "linecolor": "white",
            "ticks": ""
           },
           "baxis": {
            "gridcolor": "white",
            "linecolor": "white",
            "ticks": ""
           },
           "bgcolor": "#E5ECF6",
           "caxis": {
            "gridcolor": "white",
            "linecolor": "white",
            "ticks": ""
           }
          },
          "title": {
           "x": 0.05
          },
          "xaxis": {
           "automargin": true,
           "gridcolor": "white",
           "linecolor": "white",
           "ticks": "",
           "title": {
            "standoff": 15
           },
           "zerolinecolor": "white",
           "zerolinewidth": 2
          },
          "yaxis": {
           "automargin": true,
           "gridcolor": "white",
           "linecolor": "white",
           "ticks": "",
           "title": {
            "standoff": 15
           },
           "zerolinecolor": "white",
           "zerolinewidth": 2
          }
         }
        },
        "title": {
         "text": "Numbers of Top 100 Video Games Publishers"
        },
        "xaxis": {
         "title": {
          "text": "Publishers"
         }
        },
        "yaxis": {
         "title": {
          "text": "Count"
         }
        }
       }
      },
      "text/html": [
       "<div>                            <div id=\"a41244ae-ad1b-4afe-aaa2-bc157e429ff0\" class=\"plotly-graph-div\" style=\"height:525px; width:100%;\"></div>            <script type=\"text/javascript\">                require([\"plotly\"], function(Plotly) {                    window.PLOTLYENV=window.PLOTLYENV || {};                                    if (document.getElementById(\"a41244ae-ad1b-4afe-aaa2-bc157e429ff0\")) {                    Plotly.newPlot(                        \"a41244ae-ad1b-4afe-aaa2-bc157e429ff0\",                        [{\"marker\": {\"color\": \"crimson\", \"line\": {\"color\": \"black\", \"width\": 2}}, \"opacity\": 0.75, \"type\": \"histogram\", \"x\": [\"Nintendo\", \"Nintendo\", \"Nintendo\", \"Nintendo\", \"Nintendo\", \"Nintendo\", \"Nintendo\", \"Nintendo\", \"Nintendo\", \"Nintendo\", \"Nintendo\", \"Nintendo\", \"Nintendo\", \"Nintendo\", \"Nintendo\", \"Microsoft Game Studios\", \"Take-Two Interactive\", \"Take-Two Interactive\", \"Nintendo\", \"Nintendo\", \"Nintendo\", \"Nintendo\", \"Nintendo\", \"Take-Two Interactive\", \"Take-Two Interactive\", \"Nintendo\", \"Nintendo\", \"Nintendo\", \"Sony Computer Entertainment\", \"Activision\", \"Nintendo\", \"Activision\", \"Nintendo\", \"Activision\", \"Activision\", \"Activision\", \"Activision\", \"Activision\", \"Take-Two Interactive\", \"Nintendo\", \"Activision\", \"Nintendo\", \"Nintendo\", \"Microsoft Game Studios\", \"Take-Two Interactive\", \"Nintendo\", \"Nintendo\", \"Sony Computer Entertainment\", \"Nintendo\", \"Nintendo\", \"Nintendo\", \"Take-Two Interactive\", \"Sony Computer Entertainment\", \"Nintendo\", \"Sony Computer Entertainment\", \"Activision\", \"Take-Two Interactive\", \"Nintendo\", \"Nintendo\", \"Nintendo\", \"Ubisoft\", \"Activision\", \"Microsoft Game Studios\", \"Nintendo\", \"Nintendo\", \"Microsoft Game Studios\", \"Sony Computer Entertainment\", \"Activision\", \"Ubisoft\", \"Sony Computer Entertainment\", \"Activision\", \"Nintendo\", \"Microsoft Game Studios\", \"Nintendo\", \"Nintendo\", \"Bethesda Softworks\", \"Nintendo\", \"Electronic Arts\", \"Nintendo\", \"Microsoft Game Studios\", \"Nintendo\", \"Nintendo\", \"Electronic Arts\", \"Electronic Arts\", \"Nintendo\", \"Sega\", \"Sony Computer Entertainment\", \"SquareSoft\", \"Nintendo\", \"Atari\", \"Take-Two Interactive\", \"Nintendo\", \"Electronic Arts\", \"Activision\", \"Nintendo\", \"Sony Computer Entertainment\", \"Nintendo\", \"Nintendo\", \"Activision\", \"Electronic Arts\"]}],                        {\"bargap\": 0.2, \"bargroupgap\": 0.1, \"paper_bgcolor\": \"rgb(243, 243, 243)\", \"plot_bgcolor\": \"rgb(243, 243, 243)\", \"template\": {\"data\": {\"bar\": [{\"error_x\": {\"color\": \"#2a3f5f\"}, \"error_y\": {\"color\": \"#2a3f5f\"}, \"marker\": {\"line\": {\"color\": \"#E5ECF6\", \"width\": 0.5}}, \"type\": \"bar\"}], \"barpolar\": [{\"marker\": {\"line\": {\"color\": \"#E5ECF6\", \"width\": 0.5}}, \"type\": \"barpolar\"}], \"carpet\": [{\"aaxis\": {\"endlinecolor\": \"#2a3f5f\", \"gridcolor\": \"white\", \"linecolor\": \"white\", \"minorgridcolor\": \"white\", \"startlinecolor\": \"#2a3f5f\"}, \"baxis\": {\"endlinecolor\": \"#2a3f5f\", \"gridcolor\": \"white\", \"linecolor\": \"white\", \"minorgridcolor\": \"white\", \"startlinecolor\": \"#2a3f5f\"}, \"type\": \"carpet\"}], \"choropleth\": [{\"colorbar\": {\"outlinewidth\": 0, \"ticks\": \"\"}, \"type\": \"choropleth\"}], \"contour\": [{\"colorbar\": {\"outlinewidth\": 0, \"ticks\": \"\"}, \"colorscale\": [[0.0, \"#0d0887\"], [0.1111111111111111, \"#46039f\"], [0.2222222222222222, \"#7201a8\"], [0.3333333333333333, \"#9c179e\"], [0.4444444444444444, \"#bd3786\"], [0.5555555555555556, \"#d8576b\"], [0.6666666666666666, \"#ed7953\"], [0.7777777777777778, \"#fb9f3a\"], [0.8888888888888888, \"#fdca26\"], [1.0, \"#f0f921\"]], \"type\": \"contour\"}], \"contourcarpet\": [{\"colorbar\": {\"outlinewidth\": 0, \"ticks\": \"\"}, \"type\": \"contourcarpet\"}], \"heatmap\": [{\"colorbar\": {\"outlinewidth\": 0, \"ticks\": \"\"}, \"colorscale\": [[0.0, \"#0d0887\"], [0.1111111111111111, \"#46039f\"], [0.2222222222222222, \"#7201a8\"], [0.3333333333333333, \"#9c179e\"], [0.4444444444444444, \"#bd3786\"], [0.5555555555555556, \"#d8576b\"], [0.6666666666666666, \"#ed7953\"], [0.7777777777777778, \"#fb9f3a\"], [0.8888888888888888, \"#fdca26\"], [1.0, \"#f0f921\"]], \"type\": \"heatmap\"}], \"heatmapgl\": [{\"colorbar\": {\"outlinewidth\": 0, \"ticks\": \"\"}, \"colorscale\": [[0.0, \"#0d0887\"], [0.1111111111111111, \"#46039f\"], [0.2222222222222222, \"#7201a8\"], [0.3333333333333333, \"#9c179e\"], [0.4444444444444444, \"#bd3786\"], [0.5555555555555556, \"#d8576b\"], [0.6666666666666666, \"#ed7953\"], [0.7777777777777778, \"#fb9f3a\"], [0.8888888888888888, \"#fdca26\"], [1.0, \"#f0f921\"]], \"type\": \"heatmapgl\"}], \"histogram\": [{\"marker\": {\"colorbar\": {\"outlinewidth\": 0, \"ticks\": \"\"}}, \"type\": \"histogram\"}], \"histogram2d\": [{\"colorbar\": {\"outlinewidth\": 0, \"ticks\": \"\"}, \"colorscale\": [[0.0, \"#0d0887\"], [0.1111111111111111, \"#46039f\"], [0.2222222222222222, \"#7201a8\"], [0.3333333333333333, \"#9c179e\"], [0.4444444444444444, \"#bd3786\"], [0.5555555555555556, \"#d8576b\"], [0.6666666666666666, \"#ed7953\"], [0.7777777777777778, \"#fb9f3a\"], [0.8888888888888888, \"#fdca26\"], [1.0, \"#f0f921\"]], \"type\": \"histogram2d\"}], \"histogram2dcontour\": [{\"colorbar\": {\"outlinewidth\": 0, \"ticks\": \"\"}, \"colorscale\": [[0.0, \"#0d0887\"], [0.1111111111111111, \"#46039f\"], [0.2222222222222222, \"#7201a8\"], [0.3333333333333333, \"#9c179e\"], [0.4444444444444444, \"#bd3786\"], [0.5555555555555556, \"#d8576b\"], [0.6666666666666666, \"#ed7953\"], [0.7777777777777778, \"#fb9f3a\"], [0.8888888888888888, \"#fdca26\"], [1.0, \"#f0f921\"]], \"type\": \"histogram2dcontour\"}], \"mesh3d\": [{\"colorbar\": {\"outlinewidth\": 0, \"ticks\": \"\"}, \"type\": \"mesh3d\"}], \"parcoords\": [{\"line\": {\"colorbar\": {\"outlinewidth\": 0, \"ticks\": \"\"}}, \"type\": \"parcoords\"}], \"pie\": [{\"automargin\": true, \"type\": \"pie\"}], \"scatter\": [{\"marker\": {\"colorbar\": {\"outlinewidth\": 0, \"ticks\": \"\"}}, \"type\": \"scatter\"}], \"scatter3d\": [{\"line\": {\"colorbar\": {\"outlinewidth\": 0, \"ticks\": \"\"}}, \"marker\": {\"colorbar\": {\"outlinewidth\": 0, \"ticks\": \"\"}}, \"type\": \"scatter3d\"}], \"scattercarpet\": [{\"marker\": {\"colorbar\": {\"outlinewidth\": 0, \"ticks\": \"\"}}, \"type\": \"scattercarpet\"}], \"scattergeo\": [{\"marker\": {\"colorbar\": {\"outlinewidth\": 0, \"ticks\": \"\"}}, \"type\": \"scattergeo\"}], \"scattergl\": [{\"marker\": {\"colorbar\": {\"outlinewidth\": 0, \"ticks\": \"\"}}, \"type\": \"scattergl\"}], \"scattermapbox\": [{\"marker\": {\"colorbar\": {\"outlinewidth\": 0, \"ticks\": \"\"}}, \"type\": \"scattermapbox\"}], \"scatterpolar\": [{\"marker\": {\"colorbar\": {\"outlinewidth\": 0, \"ticks\": \"\"}}, \"type\": \"scatterpolar\"}], \"scatterpolargl\": [{\"marker\": {\"colorbar\": {\"outlinewidth\": 0, \"ticks\": \"\"}}, \"type\": \"scatterpolargl\"}], \"scatterternary\": [{\"marker\": {\"colorbar\": {\"outlinewidth\": 0, \"ticks\": \"\"}}, \"type\": \"scatterternary\"}], \"surface\": [{\"colorbar\": {\"outlinewidth\": 0, \"ticks\": \"\"}, \"colorscale\": [[0.0, \"#0d0887\"], [0.1111111111111111, \"#46039f\"], [0.2222222222222222, \"#7201a8\"], [0.3333333333333333, \"#9c179e\"], [0.4444444444444444, \"#bd3786\"], [0.5555555555555556, \"#d8576b\"], [0.6666666666666666, \"#ed7953\"], [0.7777777777777778, \"#fb9f3a\"], [0.8888888888888888, \"#fdca26\"], [1.0, \"#f0f921\"]], \"type\": \"surface\"}], \"table\": [{\"cells\": {\"fill\": {\"color\": \"#EBF0F8\"}, \"line\": {\"color\": \"white\"}}, \"header\": {\"fill\": {\"color\": \"#C8D4E3\"}, \"line\": {\"color\": \"white\"}}, \"type\": \"table\"}]}, \"layout\": {\"annotationdefaults\": {\"arrowcolor\": \"#2a3f5f\", \"arrowhead\": 0, \"arrowwidth\": 1}, \"autotypenumbers\": \"strict\", \"coloraxis\": {\"colorbar\": {\"outlinewidth\": 0, \"ticks\": \"\"}}, \"colorscale\": {\"diverging\": [[0, \"#8e0152\"], [0.1, \"#c51b7d\"], [0.2, \"#de77ae\"], [0.3, \"#f1b6da\"], [0.4, \"#fde0ef\"], [0.5, \"#f7f7f7\"], [0.6, \"#e6f5d0\"], [0.7, \"#b8e186\"], [0.8, \"#7fbc41\"], [0.9, \"#4d9221\"], [1, \"#276419\"]], \"sequential\": [[0.0, \"#0d0887\"], [0.1111111111111111, \"#46039f\"], [0.2222222222222222, \"#7201a8\"], [0.3333333333333333, \"#9c179e\"], [0.4444444444444444, \"#bd3786\"], [0.5555555555555556, \"#d8576b\"], [0.6666666666666666, \"#ed7953\"], [0.7777777777777778, \"#fb9f3a\"], [0.8888888888888888, \"#fdca26\"], [1.0, \"#f0f921\"]], \"sequentialminus\": [[0.0, \"#0d0887\"], [0.1111111111111111, \"#46039f\"], [0.2222222222222222, \"#7201a8\"], [0.3333333333333333, \"#9c179e\"], [0.4444444444444444, \"#bd3786\"], [0.5555555555555556, \"#d8576b\"], [0.6666666666666666, \"#ed7953\"], [0.7777777777777778, \"#fb9f3a\"], [0.8888888888888888, \"#fdca26\"], [1.0, \"#f0f921\"]]}, \"colorway\": [\"#636efa\", \"#EF553B\", \"#00cc96\", \"#ab63fa\", \"#FFA15A\", \"#19d3f3\", \"#FF6692\", \"#B6E880\", \"#FF97FF\", \"#FECB52\"], \"font\": {\"color\": \"#2a3f5f\"}, \"geo\": {\"bgcolor\": \"white\", \"lakecolor\": \"white\", \"landcolor\": \"#E5ECF6\", \"showlakes\": true, \"showland\": true, \"subunitcolor\": \"white\"}, \"hoverlabel\": {\"align\": \"left\"}, \"hovermode\": \"closest\", \"mapbox\": {\"style\": \"light\"}, \"paper_bgcolor\": \"white\", \"plot_bgcolor\": \"#E5ECF6\", \"polar\": {\"angularaxis\": {\"gridcolor\": \"white\", \"linecolor\": \"white\", \"ticks\": \"\"}, \"bgcolor\": \"#E5ECF6\", \"radialaxis\": {\"gridcolor\": \"white\", \"linecolor\": \"white\", \"ticks\": \"\"}}, \"scene\": {\"xaxis\": {\"backgroundcolor\": \"#E5ECF6\", \"gridcolor\": \"white\", \"gridwidth\": 2, \"linecolor\": \"white\", \"showbackground\": true, \"ticks\": \"\", \"zerolinecolor\": \"white\"}, \"yaxis\": {\"backgroundcolor\": \"#E5ECF6\", \"gridcolor\": \"white\", \"gridwidth\": 2, \"linecolor\": \"white\", \"showbackground\": true, \"ticks\": \"\", \"zerolinecolor\": \"white\"}, \"zaxis\": {\"backgroundcolor\": \"#E5ECF6\", \"gridcolor\": \"white\", \"gridwidth\": 2, \"linecolor\": \"white\", \"showbackground\": true, \"ticks\": \"\", \"zerolinecolor\": \"white\"}}, \"shapedefaults\": {\"line\": {\"color\": \"#2a3f5f\"}}, \"ternary\": {\"aaxis\": {\"gridcolor\": \"white\", \"linecolor\": \"white\", \"ticks\": \"\"}, \"baxis\": {\"gridcolor\": \"white\", \"linecolor\": \"white\", \"ticks\": \"\"}, \"bgcolor\": \"#E5ECF6\", \"caxis\": {\"gridcolor\": \"white\", \"linecolor\": \"white\", \"ticks\": \"\"}}, \"title\": {\"x\": 0.05}, \"xaxis\": {\"automargin\": true, \"gridcolor\": \"white\", \"linecolor\": \"white\", \"ticks\": \"\", \"title\": {\"standoff\": 15}, \"zerolinecolor\": \"white\", \"zerolinewidth\": 2}, \"yaxis\": {\"automargin\": true, \"gridcolor\": \"white\", \"linecolor\": \"white\", \"ticks\": \"\", \"title\": {\"standoff\": 15}, \"zerolinecolor\": \"white\", \"zerolinewidth\": 2}}}, \"title\": {\"text\": \"Numbers of Top 100 Video Games Publishers\"}, \"xaxis\": {\"title\": {\"text\": \"Publishers\"}}, \"yaxis\": {\"title\": {\"text\": \"Count\"}}},                        {\"responsive\": true}                    ).then(function(){\n",
       "                            \n",
       "var gd = document.getElementById('a41244ae-ad1b-4afe-aaa2-bc157e429ff0');\n",
       "var x = new MutationObserver(function (mutations, observer) {{\n",
       "        var display = window.getComputedStyle(gd).display;\n",
       "        if (!display || display === 'none') {{\n",
       "            console.log([gd, 'removed!']);\n",
       "            Plotly.purge(gd);\n",
       "            observer.disconnect();\n",
       "        }}\n",
       "}});\n",
       "\n",
       "// Listen for the removal of the full notebook cells\n",
       "var notebookContainer = gd.closest('#notebook-container');\n",
       "if (notebookContainer) {{\n",
       "    x.observe(notebookContainer, {childList: true});\n",
       "}}\n",
       "\n",
       "// Listen for the clearing of the current output cell\n",
       "var outputEl = gd.closest('.output');\n",
       "if (outputEl) {{\n",
       "    x.observe(outputEl, {childList: true});\n",
       "}}\n",
       "\n",
       "                        })                };                });            </script>        </div>"
      ]
     },
     "metadata": {},
     "output_type": "display_data"
    }
   ],
   "source": [
    "trace = go.Histogram(x=top100.Publisher,marker=dict(color=\"crimson\",line=dict(color='black', width=2)),opacity=0.75)\n",
    "layout = go.Layout(\n",
    "    title='Numbers of Top 100 Video Games Publishers',\n",
    "    xaxis=dict(\n",
    "        title='Publishers'\n",
    "    ),\n",
    "    yaxis=dict(\n",
    "        title='Count'\n",
    "    ),\n",
    "    bargap=0.2,\n",
    "    bargroupgap=0.1, paper_bgcolor='rgb(243, 243, 243)',\n",
    "    plot_bgcolor=\"rgb(243, 243, 243)\")\n",
    "fig = go.Figure(data=[trace], layout=layout)\n",
    "iplot(fig)"
   ]
  },
  {
   "cell_type": "markdown",
   "metadata": {},
   "source": [
    "52 of these 100 games were published by Nintendo, siendo que la segunda que mas desarrollo es Activision, con \"apenas\" 14 juegos desarrollados. \n",
    "\n",
    "NINTENDO\n",
    "\n",
    "Nintendo Co., Ltd. is a Japanese multinational consumer electronics and video game company headquartered in Kyoto ,founded on 23 September 1889 by Fusajiro Yamauchi. Nintendo is one of the world's largest video game companies by market capitalization, creating some of the best-known and top-selling video game franchises, such as Mario, The Legend of Zelda, and Pokémon. It originally produced handmade hanafuda playing cards. By 1963, the company had tried several small niche businesses, such as cab services and love hotels. Abandoning previous ventures in favor of toys in the 1960s, Nintendo developed into a video game company in the 1970s, ultimately becoming one of the most influential in the industry and Japan's third most-valuable company with a market value of over $85 billion in 2007.(source=Wikipedia)"
   ]
  },
  {
   "cell_type": "code",
   "execution_count": null,
   "metadata": {},
   "outputs": [],
   "source": []
  },
  {
   "cell_type": "code",
   "execution_count": null,
   "metadata": {},
   "outputs": [],
   "source": []
  },
  {
   "cell_type": "code",
   "execution_count": 14,
   "metadata": {},
   "outputs": [],
   "source": [
    "##1. Drop the samples with missing values\n",
    "##2. index needs to be reset after deleted samples\n",
    "##3. updating rank column after reset\n",
    "\n",
    "vgsales = vgsales.dropna()\n",
    "\n",
    "vgsales = vgsales.reset_index(drop = True)\n",
    "\n",
    "vgsales.loc[:, 'Rank'] = np.arange(vgsales.shape[0])+1"
   ]
  },
  {
   "cell_type": "code",
   "execution_count": 15,
   "metadata": {},
   "outputs": [],
   "source": [
    "#As shown in vgsales.info, the year is showing floating point number. \n",
    "# We will change that to an integer for display purposes.\n",
    "\n",
    "vgsales['Year'] = vgsales['Year'].astype(int)"
   ]
  },
  {
   "cell_type": "code",
   "execution_count": 16,
   "metadata": {},
   "outputs": [
    {
     "data": {
      "text/html": [
       "<div>\n",
       "<style scoped>\n",
       "    .dataframe tbody tr th:only-of-type {\n",
       "        vertical-align: middle;\n",
       "    }\n",
       "\n",
       "    .dataframe tbody tr th {\n",
       "        vertical-align: top;\n",
       "    }\n",
       "\n",
       "    .dataframe thead th {\n",
       "        text-align: right;\n",
       "    }\n",
       "</style>\n",
       "<table border=\"1\" class=\"dataframe\">\n",
       "  <thead>\n",
       "    <tr style=\"text-align: right;\">\n",
       "      <th>Platform</th>\n",
       "      <th>2600</th>\n",
       "      <th>3DO</th>\n",
       "      <th>3DS</th>\n",
       "      <th>DC</th>\n",
       "      <th>DS</th>\n",
       "      <th>GB</th>\n",
       "      <th>GBA</th>\n",
       "      <th>GC</th>\n",
       "      <th>GEN</th>\n",
       "      <th>GG</th>\n",
       "      <th>...</th>\n",
       "      <th>SCD</th>\n",
       "      <th>SNES</th>\n",
       "      <th>TG16</th>\n",
       "      <th>WS</th>\n",
       "      <th>Wii</th>\n",
       "      <th>WiiU</th>\n",
       "      <th>X360</th>\n",
       "      <th>XB</th>\n",
       "      <th>XOne</th>\n",
       "      <th>Total</th>\n",
       "    </tr>\n",
       "    <tr>\n",
       "      <th>Year</th>\n",
       "      <th></th>\n",
       "      <th></th>\n",
       "      <th></th>\n",
       "      <th></th>\n",
       "      <th></th>\n",
       "      <th></th>\n",
       "      <th></th>\n",
       "      <th></th>\n",
       "      <th></th>\n",
       "      <th></th>\n",
       "      <th></th>\n",
       "      <th></th>\n",
       "      <th></th>\n",
       "      <th></th>\n",
       "      <th></th>\n",
       "      <th></th>\n",
       "      <th></th>\n",
       "      <th></th>\n",
       "      <th></th>\n",
       "      <th></th>\n",
       "      <th></th>\n",
       "    </tr>\n",
       "  </thead>\n",
       "  <tbody>\n",
       "    <tr>\n",
       "      <th>1980</th>\n",
       "      <td>9</td>\n",
       "      <td>0</td>\n",
       "      <td>0</td>\n",
       "      <td>0</td>\n",
       "      <td>0</td>\n",
       "      <td>0</td>\n",
       "      <td>0</td>\n",
       "      <td>0</td>\n",
       "      <td>0</td>\n",
       "      <td>0</td>\n",
       "      <td>...</td>\n",
       "      <td>0</td>\n",
       "      <td>0</td>\n",
       "      <td>0</td>\n",
       "      <td>0</td>\n",
       "      <td>0</td>\n",
       "      <td>0</td>\n",
       "      <td>0</td>\n",
       "      <td>0</td>\n",
       "      <td>0</td>\n",
       "      <td>9</td>\n",
       "    </tr>\n",
       "    <tr>\n",
       "      <th>1981</th>\n",
       "      <td>46</td>\n",
       "      <td>0</td>\n",
       "      <td>0</td>\n",
       "      <td>0</td>\n",
       "      <td>0</td>\n",
       "      <td>0</td>\n",
       "      <td>0</td>\n",
       "      <td>0</td>\n",
       "      <td>0</td>\n",
       "      <td>0</td>\n",
       "      <td>...</td>\n",
       "      <td>0</td>\n",
       "      <td>0</td>\n",
       "      <td>0</td>\n",
       "      <td>0</td>\n",
       "      <td>0</td>\n",
       "      <td>0</td>\n",
       "      <td>0</td>\n",
       "      <td>0</td>\n",
       "      <td>0</td>\n",
       "      <td>46</td>\n",
       "    </tr>\n",
       "    <tr>\n",
       "      <th>1982</th>\n",
       "      <td>36</td>\n",
       "      <td>0</td>\n",
       "      <td>0</td>\n",
       "      <td>0</td>\n",
       "      <td>0</td>\n",
       "      <td>0</td>\n",
       "      <td>0</td>\n",
       "      <td>0</td>\n",
       "      <td>0</td>\n",
       "      <td>0</td>\n",
       "      <td>...</td>\n",
       "      <td>0</td>\n",
       "      <td>0</td>\n",
       "      <td>0</td>\n",
       "      <td>0</td>\n",
       "      <td>0</td>\n",
       "      <td>0</td>\n",
       "      <td>0</td>\n",
       "      <td>0</td>\n",
       "      <td>0</td>\n",
       "      <td>36</td>\n",
       "    </tr>\n",
       "    <tr>\n",
       "      <th>1983</th>\n",
       "      <td>11</td>\n",
       "      <td>0</td>\n",
       "      <td>0</td>\n",
       "      <td>0</td>\n",
       "      <td>0</td>\n",
       "      <td>0</td>\n",
       "      <td>0</td>\n",
       "      <td>0</td>\n",
       "      <td>0</td>\n",
       "      <td>0</td>\n",
       "      <td>...</td>\n",
       "      <td>0</td>\n",
       "      <td>0</td>\n",
       "      <td>0</td>\n",
       "      <td>0</td>\n",
       "      <td>0</td>\n",
       "      <td>0</td>\n",
       "      <td>0</td>\n",
       "      <td>0</td>\n",
       "      <td>0</td>\n",
       "      <td>17</td>\n",
       "    </tr>\n",
       "    <tr>\n",
       "      <th>1984</th>\n",
       "      <td>1</td>\n",
       "      <td>0</td>\n",
       "      <td>0</td>\n",
       "      <td>0</td>\n",
       "      <td>0</td>\n",
       "      <td>0</td>\n",
       "      <td>0</td>\n",
       "      <td>0</td>\n",
       "      <td>0</td>\n",
       "      <td>0</td>\n",
       "      <td>...</td>\n",
       "      <td>0</td>\n",
       "      <td>0</td>\n",
       "      <td>0</td>\n",
       "      <td>0</td>\n",
       "      <td>0</td>\n",
       "      <td>0</td>\n",
       "      <td>0</td>\n",
       "      <td>0</td>\n",
       "      <td>0</td>\n",
       "      <td>14</td>\n",
       "    </tr>\n",
       "    <tr>\n",
       "      <th>1985</th>\n",
       "      <td>1</td>\n",
       "      <td>0</td>\n",
       "      <td>0</td>\n",
       "      <td>0</td>\n",
       "      <td>1</td>\n",
       "      <td>0</td>\n",
       "      <td>0</td>\n",
       "      <td>0</td>\n",
       "      <td>0</td>\n",
       "      <td>0</td>\n",
       "      <td>...</td>\n",
       "      <td>0</td>\n",
       "      <td>0</td>\n",
       "      <td>0</td>\n",
       "      <td>0</td>\n",
       "      <td>0</td>\n",
       "      <td>0</td>\n",
       "      <td>0</td>\n",
       "      <td>0</td>\n",
       "      <td>0</td>\n",
       "      <td>14</td>\n",
       "    </tr>\n",
       "    <tr>\n",
       "      <th>1986</th>\n",
       "      <td>2</td>\n",
       "      <td>0</td>\n",
       "      <td>0</td>\n",
       "      <td>0</td>\n",
       "      <td>0</td>\n",
       "      <td>0</td>\n",
       "      <td>0</td>\n",
       "      <td>0</td>\n",
       "      <td>0</td>\n",
       "      <td>0</td>\n",
       "      <td>...</td>\n",
       "      <td>0</td>\n",
       "      <td>0</td>\n",
       "      <td>0</td>\n",
       "      <td>0</td>\n",
       "      <td>0</td>\n",
       "      <td>0</td>\n",
       "      <td>0</td>\n",
       "      <td>0</td>\n",
       "      <td>0</td>\n",
       "      <td>21</td>\n",
       "    </tr>\n",
       "    <tr>\n",
       "      <th>1987</th>\n",
       "      <td>6</td>\n",
       "      <td>0</td>\n",
       "      <td>0</td>\n",
       "      <td>0</td>\n",
       "      <td>0</td>\n",
       "      <td>0</td>\n",
       "      <td>0</td>\n",
       "      <td>0</td>\n",
       "      <td>0</td>\n",
       "      <td>0</td>\n",
       "      <td>...</td>\n",
       "      <td>0</td>\n",
       "      <td>0</td>\n",
       "      <td>0</td>\n",
       "      <td>0</td>\n",
       "      <td>0</td>\n",
       "      <td>0</td>\n",
       "      <td>0</td>\n",
       "      <td>0</td>\n",
       "      <td>0</td>\n",
       "      <td>16</td>\n",
       "    </tr>\n",
       "    <tr>\n",
       "      <th>1988</th>\n",
       "      <td>2</td>\n",
       "      <td>0</td>\n",
       "      <td>0</td>\n",
       "      <td>0</td>\n",
       "      <td>0</td>\n",
       "      <td>1</td>\n",
       "      <td>0</td>\n",
       "      <td>0</td>\n",
       "      <td>0</td>\n",
       "      <td>0</td>\n",
       "      <td>...</td>\n",
       "      <td>0</td>\n",
       "      <td>0</td>\n",
       "      <td>0</td>\n",
       "      <td>0</td>\n",
       "      <td>0</td>\n",
       "      <td>0</td>\n",
       "      <td>0</td>\n",
       "      <td>0</td>\n",
       "      <td>0</td>\n",
       "      <td>15</td>\n",
       "    </tr>\n",
       "    <tr>\n",
       "      <th>1989</th>\n",
       "      <td>2</td>\n",
       "      <td>0</td>\n",
       "      <td>0</td>\n",
       "      <td>0</td>\n",
       "      <td>0</td>\n",
       "      <td>10</td>\n",
       "      <td>0</td>\n",
       "      <td>0</td>\n",
       "      <td>0</td>\n",
       "      <td>0</td>\n",
       "      <td>...</td>\n",
       "      <td>0</td>\n",
       "      <td>0</td>\n",
       "      <td>0</td>\n",
       "      <td>0</td>\n",
       "      <td>0</td>\n",
       "      <td>0</td>\n",
       "      <td>0</td>\n",
       "      <td>0</td>\n",
       "      <td>0</td>\n",
       "      <td>17</td>\n",
       "    </tr>\n",
       "    <tr>\n",
       "      <th>1990</th>\n",
       "      <td>0</td>\n",
       "      <td>0</td>\n",
       "      <td>0</td>\n",
       "      <td>0</td>\n",
       "      <td>0</td>\n",
       "      <td>3</td>\n",
       "      <td>0</td>\n",
       "      <td>0</td>\n",
       "      <td>1</td>\n",
       "      <td>0</td>\n",
       "      <td>...</td>\n",
       "      <td>0</td>\n",
       "      <td>4</td>\n",
       "      <td>0</td>\n",
       "      <td>0</td>\n",
       "      <td>0</td>\n",
       "      <td>0</td>\n",
       "      <td>0</td>\n",
       "      <td>0</td>\n",
       "      <td>0</td>\n",
       "      <td>16</td>\n",
       "    </tr>\n",
       "    <tr>\n",
       "      <th>1991</th>\n",
       "      <td>0</td>\n",
       "      <td>0</td>\n",
       "      <td>0</td>\n",
       "      <td>0</td>\n",
       "      <td>0</td>\n",
       "      <td>9</td>\n",
       "      <td>0</td>\n",
       "      <td>0</td>\n",
       "      <td>1</td>\n",
       "      <td>0</td>\n",
       "      <td>...</td>\n",
       "      <td>0</td>\n",
       "      <td>24</td>\n",
       "      <td>0</td>\n",
       "      <td>0</td>\n",
       "      <td>0</td>\n",
       "      <td>0</td>\n",
       "      <td>0</td>\n",
       "      <td>0</td>\n",
       "      <td>0</td>\n",
       "      <td>41</td>\n",
       "    </tr>\n",
       "    <tr>\n",
       "      <th>1992</th>\n",
       "      <td>0</td>\n",
       "      <td>0</td>\n",
       "      <td>0</td>\n",
       "      <td>0</td>\n",
       "      <td>0</td>\n",
       "      <td>7</td>\n",
       "      <td>0</td>\n",
       "      <td>0</td>\n",
       "      <td>6</td>\n",
       "      <td>1</td>\n",
       "      <td>...</td>\n",
       "      <td>0</td>\n",
       "      <td>21</td>\n",
       "      <td>0</td>\n",
       "      <td>0</td>\n",
       "      <td>0</td>\n",
       "      <td>0</td>\n",
       "      <td>0</td>\n",
       "      <td>0</td>\n",
       "      <td>0</td>\n",
       "      <td>43</td>\n",
       "    </tr>\n",
       "    <tr>\n",
       "      <th>1993</th>\n",
       "      <td>0</td>\n",
       "      <td>0</td>\n",
       "      <td>0</td>\n",
       "      <td>0</td>\n",
       "      <td>0</td>\n",
       "      <td>0</td>\n",
       "      <td>0</td>\n",
       "      <td>0</td>\n",
       "      <td>7</td>\n",
       "      <td>0</td>\n",
       "      <td>...</td>\n",
       "      <td>1</td>\n",
       "      <td>46</td>\n",
       "      <td>0</td>\n",
       "      <td>0</td>\n",
       "      <td>0</td>\n",
       "      <td>0</td>\n",
       "      <td>0</td>\n",
       "      <td>0</td>\n",
       "      <td>0</td>\n",
       "      <td>60</td>\n",
       "    </tr>\n",
       "    <tr>\n",
       "      <th>1994</th>\n",
       "      <td>0</td>\n",
       "      <td>1</td>\n",
       "      <td>0</td>\n",
       "      <td>0</td>\n",
       "      <td>0</td>\n",
       "      <td>3</td>\n",
       "      <td>0</td>\n",
       "      <td>0</td>\n",
       "      <td>12</td>\n",
       "      <td>0</td>\n",
       "      <td>...</td>\n",
       "      <td>5</td>\n",
       "      <td>53</td>\n",
       "      <td>0</td>\n",
       "      <td>0</td>\n",
       "      <td>0</td>\n",
       "      <td>0</td>\n",
       "      <td>0</td>\n",
       "      <td>0</td>\n",
       "      <td>0</td>\n",
       "      <td>121</td>\n",
       "    </tr>\n",
       "    <tr>\n",
       "      <th>1995</th>\n",
       "      <td>0</td>\n",
       "      <td>2</td>\n",
       "      <td>0</td>\n",
       "      <td>0</td>\n",
       "      <td>0</td>\n",
       "      <td>4</td>\n",
       "      <td>0</td>\n",
       "      <td>0</td>\n",
       "      <td>0</td>\n",
       "      <td>0</td>\n",
       "      <td>...</td>\n",
       "      <td>0</td>\n",
       "      <td>54</td>\n",
       "      <td>2</td>\n",
       "      <td>0</td>\n",
       "      <td>0</td>\n",
       "      <td>0</td>\n",
       "      <td>0</td>\n",
       "      <td>0</td>\n",
       "      <td>0</td>\n",
       "      <td>219</td>\n",
       "    </tr>\n",
       "    <tr>\n",
       "      <th>1996</th>\n",
       "      <td>0</td>\n",
       "      <td>0</td>\n",
       "      <td>0</td>\n",
       "      <td>0</td>\n",
       "      <td>0</td>\n",
       "      <td>6</td>\n",
       "      <td>0</td>\n",
       "      <td>0</td>\n",
       "      <td>0</td>\n",
       "      <td>0</td>\n",
       "      <td>...</td>\n",
       "      <td>0</td>\n",
       "      <td>30</td>\n",
       "      <td>0</td>\n",
       "      <td>0</td>\n",
       "      <td>0</td>\n",
       "      <td>0</td>\n",
       "      <td>0</td>\n",
       "      <td>0</td>\n",
       "      <td>0</td>\n",
       "      <td>263</td>\n",
       "    </tr>\n",
       "    <tr>\n",
       "      <th>1997</th>\n",
       "      <td>0</td>\n",
       "      <td>0</td>\n",
       "      <td>0</td>\n",
       "      <td>0</td>\n",
       "      <td>0</td>\n",
       "      <td>8</td>\n",
       "      <td>0</td>\n",
       "      <td>0</td>\n",
       "      <td>0</td>\n",
       "      <td>0</td>\n",
       "      <td>...</td>\n",
       "      <td>0</td>\n",
       "      <td>4</td>\n",
       "      <td>0</td>\n",
       "      <td>0</td>\n",
       "      <td>0</td>\n",
       "      <td>0</td>\n",
       "      <td>0</td>\n",
       "      <td>0</td>\n",
       "      <td>0</td>\n",
       "      <td>289</td>\n",
       "    </tr>\n",
       "    <tr>\n",
       "      <th>1998</th>\n",
       "      <td>0</td>\n",
       "      <td>0</td>\n",
       "      <td>0</td>\n",
       "      <td>7</td>\n",
       "      <td>0</td>\n",
       "      <td>8</td>\n",
       "      <td>0</td>\n",
       "      <td>0</td>\n",
       "      <td>0</td>\n",
       "      <td>0</td>\n",
       "      <td>...</td>\n",
       "      <td>0</td>\n",
       "      <td>2</td>\n",
       "      <td>0</td>\n",
       "      <td>0</td>\n",
       "      <td>0</td>\n",
       "      <td>0</td>\n",
       "      <td>0</td>\n",
       "      <td>0</td>\n",
       "      <td>0</td>\n",
       "      <td>379</td>\n",
       "    </tr>\n",
       "    <tr>\n",
       "      <th>1999</th>\n",
       "      <td>0</td>\n",
       "      <td>0</td>\n",
       "      <td>0</td>\n",
       "      <td>14</td>\n",
       "      <td>0</td>\n",
       "      <td>11</td>\n",
       "      <td>0</td>\n",
       "      <td>0</td>\n",
       "      <td>0</td>\n",
       "      <td>0</td>\n",
       "      <td>...</td>\n",
       "      <td>0</td>\n",
       "      <td>1</td>\n",
       "      <td>0</td>\n",
       "      <td>2</td>\n",
       "      <td>0</td>\n",
       "      <td>0</td>\n",
       "      <td>0</td>\n",
       "      <td>0</td>\n",
       "      <td>0</td>\n",
       "      <td>338</td>\n",
       "    </tr>\n",
       "    <tr>\n",
       "      <th>2000</th>\n",
       "      <td>0</td>\n",
       "      <td>0</td>\n",
       "      <td>0</td>\n",
       "      <td>20</td>\n",
       "      <td>0</td>\n",
       "      <td>17</td>\n",
       "      <td>1</td>\n",
       "      <td>0</td>\n",
       "      <td>0</td>\n",
       "      <td>0</td>\n",
       "      <td>...</td>\n",
       "      <td>0</td>\n",
       "      <td>0</td>\n",
       "      <td>0</td>\n",
       "      <td>2</td>\n",
       "      <td>0</td>\n",
       "      <td>0</td>\n",
       "      <td>0</td>\n",
       "      <td>1</td>\n",
       "      <td>0</td>\n",
       "      <td>349</td>\n",
       "    </tr>\n",
       "    <tr>\n",
       "      <th>2001</th>\n",
       "      <td>0</td>\n",
       "      <td>0</td>\n",
       "      <td>0</td>\n",
       "      <td>8</td>\n",
       "      <td>0</td>\n",
       "      <td>10</td>\n",
       "      <td>107</td>\n",
       "      <td>22</td>\n",
       "      <td>0</td>\n",
       "      <td>0</td>\n",
       "      <td>...</td>\n",
       "      <td>0</td>\n",
       "      <td>0</td>\n",
       "      <td>0</td>\n",
       "      <td>2</td>\n",
       "      <td>0</td>\n",
       "      <td>0</td>\n",
       "      <td>0</td>\n",
       "      <td>33</td>\n",
       "      <td>0</td>\n",
       "      <td>482</td>\n",
       "    </tr>\n",
       "    <tr>\n",
       "      <th>2002</th>\n",
       "      <td>0</td>\n",
       "      <td>0</td>\n",
       "      <td>0</td>\n",
       "      <td>1</td>\n",
       "      <td>0</td>\n",
       "      <td>0</td>\n",
       "      <td>198</td>\n",
       "      <td>152</td>\n",
       "      <td>0</td>\n",
       "      <td>0</td>\n",
       "      <td>...</td>\n",
       "      <td>0</td>\n",
       "      <td>0</td>\n",
       "      <td>0</td>\n",
       "      <td>0</td>\n",
       "      <td>0</td>\n",
       "      <td>0</td>\n",
       "      <td>0</td>\n",
       "      <td>158</td>\n",
       "      <td>0</td>\n",
       "      <td>829</td>\n",
       "    </tr>\n",
       "    <tr>\n",
       "      <th>2003</th>\n",
       "      <td>0</td>\n",
       "      <td>0</td>\n",
       "      <td>0</td>\n",
       "      <td>0</td>\n",
       "      <td>0</td>\n",
       "      <td>0</td>\n",
       "      <td>150</td>\n",
       "      <td>144</td>\n",
       "      <td>0</td>\n",
       "      <td>0</td>\n",
       "      <td>...</td>\n",
       "      <td>0</td>\n",
       "      <td>0</td>\n",
       "      <td>0</td>\n",
       "      <td>0</td>\n",
       "      <td>0</td>\n",
       "      <td>0</td>\n",
       "      <td>0</td>\n",
       "      <td>189</td>\n",
       "      <td>0</td>\n",
       "      <td>775</td>\n",
       "    </tr>\n",
       "    <tr>\n",
       "      <th>2004</th>\n",
       "      <td>0</td>\n",
       "      <td>0</td>\n",
       "      <td>0</td>\n",
       "      <td>0</td>\n",
       "      <td>23</td>\n",
       "      <td>0</td>\n",
       "      <td>156</td>\n",
       "      <td>83</td>\n",
       "      <td>0</td>\n",
       "      <td>0</td>\n",
       "      <td>...</td>\n",
       "      <td>0</td>\n",
       "      <td>0</td>\n",
       "      <td>0</td>\n",
       "      <td>0</td>\n",
       "      <td>0</td>\n",
       "      <td>0</td>\n",
       "      <td>0</td>\n",
       "      <td>177</td>\n",
       "      <td>0</td>\n",
       "      <td>744</td>\n",
       "    </tr>\n",
       "    <tr>\n",
       "      <th>2005</th>\n",
       "      <td>0</td>\n",
       "      <td>0</td>\n",
       "      <td>0</td>\n",
       "      <td>0</td>\n",
       "      <td>118</td>\n",
       "      <td>0</td>\n",
       "      <td>130</td>\n",
       "      <td>97</td>\n",
       "      <td>0</td>\n",
       "      <td>0</td>\n",
       "      <td>...</td>\n",
       "      <td>0</td>\n",
       "      <td>0</td>\n",
       "      <td>0</td>\n",
       "      <td>0</td>\n",
       "      <td>0</td>\n",
       "      <td>0</td>\n",
       "      <td>18</td>\n",
       "      <td>179</td>\n",
       "      <td>0</td>\n",
       "      <td>936</td>\n",
       "    </tr>\n",
       "    <tr>\n",
       "      <th>2006</th>\n",
       "      <td>0</td>\n",
       "      <td>0</td>\n",
       "      <td>0</td>\n",
       "      <td>0</td>\n",
       "      <td>202</td>\n",
       "      <td>0</td>\n",
       "      <td>39</td>\n",
       "      <td>40</td>\n",
       "      <td>0</td>\n",
       "      <td>0</td>\n",
       "      <td>...</td>\n",
       "      <td>0</td>\n",
       "      <td>0</td>\n",
       "      <td>0</td>\n",
       "      <td>0</td>\n",
       "      <td>44</td>\n",
       "      <td>0</td>\n",
       "      <td>93</td>\n",
       "      <td>62</td>\n",
       "      <td>0</td>\n",
       "      <td>1008</td>\n",
       "    </tr>\n",
       "    <tr>\n",
       "      <th>2007</th>\n",
       "      <td>0</td>\n",
       "      <td>0</td>\n",
       "      <td>0</td>\n",
       "      <td>1</td>\n",
       "      <td>377</td>\n",
       "      <td>0</td>\n",
       "      <td>5</td>\n",
       "      <td>4</td>\n",
       "      <td>0</td>\n",
       "      <td>0</td>\n",
       "      <td>...</td>\n",
       "      <td>0</td>\n",
       "      <td>0</td>\n",
       "      <td>0</td>\n",
       "      <td>0</td>\n",
       "      <td>187</td>\n",
       "      <td>0</td>\n",
       "      <td>123</td>\n",
       "      <td>3</td>\n",
       "      <td>0</td>\n",
       "      <td>1201</td>\n",
       "    </tr>\n",
       "    <tr>\n",
       "      <th>2008</th>\n",
       "      <td>0</td>\n",
       "      <td>0</td>\n",
       "      <td>0</td>\n",
       "      <td>1</td>\n",
       "      <td>492</td>\n",
       "      <td>0</td>\n",
       "      <td>0</td>\n",
       "      <td>0</td>\n",
       "      <td>0</td>\n",
       "      <td>0</td>\n",
       "      <td>...</td>\n",
       "      <td>0</td>\n",
       "      <td>0</td>\n",
       "      <td>0</td>\n",
       "      <td>0</td>\n",
       "      <td>282</td>\n",
       "      <td>0</td>\n",
       "      <td>146</td>\n",
       "      <td>1</td>\n",
       "      <td>0</td>\n",
       "      <td>1428</td>\n",
       "    </tr>\n",
       "    <tr>\n",
       "      <th>2009</th>\n",
       "      <td>0</td>\n",
       "      <td>0</td>\n",
       "      <td>0</td>\n",
       "      <td>0</td>\n",
       "      <td>405</td>\n",
       "      <td>0</td>\n",
       "      <td>0</td>\n",
       "      <td>0</td>\n",
       "      <td>0</td>\n",
       "      <td>0</td>\n",
       "      <td>...</td>\n",
       "      <td>0</td>\n",
       "      <td>0</td>\n",
       "      <td>0</td>\n",
       "      <td>0</td>\n",
       "      <td>325</td>\n",
       "      <td>0</td>\n",
       "      <td>173</td>\n",
       "      <td>0</td>\n",
       "      <td>0</td>\n",
       "      <td>1431</td>\n",
       "    </tr>\n",
       "    <tr>\n",
       "      <th>2010</th>\n",
       "      <td>0</td>\n",
       "      <td>0</td>\n",
       "      <td>0</td>\n",
       "      <td>0</td>\n",
       "      <td>326</td>\n",
       "      <td>0</td>\n",
       "      <td>0</td>\n",
       "      <td>0</td>\n",
       "      <td>0</td>\n",
       "      <td>0</td>\n",
       "      <td>...</td>\n",
       "      <td>0</td>\n",
       "      <td>0</td>\n",
       "      <td>0</td>\n",
       "      <td>0</td>\n",
       "      <td>254</td>\n",
       "      <td>0</td>\n",
       "      <td>182</td>\n",
       "      <td>0</td>\n",
       "      <td>0</td>\n",
       "      <td>1257</td>\n",
       "    </tr>\n",
       "    <tr>\n",
       "      <th>2011</th>\n",
       "      <td>0</td>\n",
       "      <td>0</td>\n",
       "      <td>116</td>\n",
       "      <td>0</td>\n",
       "      <td>153</td>\n",
       "      <td>0</td>\n",
       "      <td>0</td>\n",
       "      <td>0</td>\n",
       "      <td>0</td>\n",
       "      <td>0</td>\n",
       "      <td>...</td>\n",
       "      <td>0</td>\n",
       "      <td>0</td>\n",
       "      <td>0</td>\n",
       "      <td>0</td>\n",
       "      <td>144</td>\n",
       "      <td>0</td>\n",
       "      <td>206</td>\n",
       "      <td>0</td>\n",
       "      <td>0</td>\n",
       "      <td>1136</td>\n",
       "    </tr>\n",
       "    <tr>\n",
       "      <th>2012</th>\n",
       "      <td>0</td>\n",
       "      <td>0</td>\n",
       "      <td>93</td>\n",
       "      <td>0</td>\n",
       "      <td>23</td>\n",
       "      <td>0</td>\n",
       "      <td>0</td>\n",
       "      <td>0</td>\n",
       "      <td>0</td>\n",
       "      <td>0</td>\n",
       "      <td>...</td>\n",
       "      <td>0</td>\n",
       "      <td>0</td>\n",
       "      <td>0</td>\n",
       "      <td>0</td>\n",
       "      <td>32</td>\n",
       "      <td>32</td>\n",
       "      <td>106</td>\n",
       "      <td>0</td>\n",
       "      <td>0</td>\n",
       "      <td>655</td>\n",
       "    </tr>\n",
       "    <tr>\n",
       "      <th>2013</th>\n",
       "      <td>0</td>\n",
       "      <td>0</td>\n",
       "      <td>91</td>\n",
       "      <td>0</td>\n",
       "      <td>9</td>\n",
       "      <td>0</td>\n",
       "      <td>0</td>\n",
       "      <td>0</td>\n",
       "      <td>0</td>\n",
       "      <td>0</td>\n",
       "      <td>...</td>\n",
       "      <td>0</td>\n",
       "      <td>0</td>\n",
       "      <td>0</td>\n",
       "      <td>0</td>\n",
       "      <td>12</td>\n",
       "      <td>42</td>\n",
       "      <td>75</td>\n",
       "      <td>0</td>\n",
       "      <td>19</td>\n",
       "      <td>546</td>\n",
       "    </tr>\n",
       "    <tr>\n",
       "      <th>2014</th>\n",
       "      <td>0</td>\n",
       "      <td>0</td>\n",
       "      <td>78</td>\n",
       "      <td>0</td>\n",
       "      <td>1</td>\n",
       "      <td>0</td>\n",
       "      <td>0</td>\n",
       "      <td>0</td>\n",
       "      <td>0</td>\n",
       "      <td>0</td>\n",
       "      <td>...</td>\n",
       "      <td>0</td>\n",
       "      <td>0</td>\n",
       "      <td>0</td>\n",
       "      <td>0</td>\n",
       "      <td>6</td>\n",
       "      <td>31</td>\n",
       "      <td>64</td>\n",
       "      <td>0</td>\n",
       "      <td>61</td>\n",
       "      <td>580</td>\n",
       "    </tr>\n",
       "    <tr>\n",
       "      <th>2015</th>\n",
       "      <td>0</td>\n",
       "      <td>0</td>\n",
       "      <td>86</td>\n",
       "      <td>0</td>\n",
       "      <td>0</td>\n",
       "      <td>0</td>\n",
       "      <td>0</td>\n",
       "      <td>0</td>\n",
       "      <td>0</td>\n",
       "      <td>0</td>\n",
       "      <td>...</td>\n",
       "      <td>0</td>\n",
       "      <td>0</td>\n",
       "      <td>0</td>\n",
       "      <td>0</td>\n",
       "      <td>4</td>\n",
       "      <td>28</td>\n",
       "      <td>40</td>\n",
       "      <td>0</td>\n",
       "      <td>79</td>\n",
       "      <td>614</td>\n",
       "    </tr>\n",
       "    <tr>\n",
       "      <th>2016</th>\n",
       "      <td>0</td>\n",
       "      <td>0</td>\n",
       "      <td>35</td>\n",
       "      <td>0</td>\n",
       "      <td>0</td>\n",
       "      <td>0</td>\n",
       "      <td>0</td>\n",
       "      <td>0</td>\n",
       "      <td>0</td>\n",
       "      <td>0</td>\n",
       "      <td>...</td>\n",
       "      <td>0</td>\n",
       "      <td>0</td>\n",
       "      <td>0</td>\n",
       "      <td>0</td>\n",
       "      <td>0</td>\n",
       "      <td>10</td>\n",
       "      <td>8</td>\n",
       "      <td>0</td>\n",
       "      <td>54</td>\n",
       "      <td>342</td>\n",
       "    </tr>\n",
       "    <tr>\n",
       "      <th>2017</th>\n",
       "      <td>0</td>\n",
       "      <td>0</td>\n",
       "      <td>0</td>\n",
       "      <td>0</td>\n",
       "      <td>0</td>\n",
       "      <td>0</td>\n",
       "      <td>0</td>\n",
       "      <td>0</td>\n",
       "      <td>0</td>\n",
       "      <td>0</td>\n",
       "      <td>...</td>\n",
       "      <td>0</td>\n",
       "      <td>0</td>\n",
       "      <td>0</td>\n",
       "      <td>0</td>\n",
       "      <td>0</td>\n",
       "      <td>0</td>\n",
       "      <td>0</td>\n",
       "      <td>0</td>\n",
       "      <td>0</td>\n",
       "      <td>3</td>\n",
       "    </tr>\n",
       "    <tr>\n",
       "      <th>2020</th>\n",
       "      <td>0</td>\n",
       "      <td>0</td>\n",
       "      <td>0</td>\n",
       "      <td>0</td>\n",
       "      <td>1</td>\n",
       "      <td>0</td>\n",
       "      <td>0</td>\n",
       "      <td>0</td>\n",
       "      <td>0</td>\n",
       "      <td>0</td>\n",
       "      <td>...</td>\n",
       "      <td>0</td>\n",
       "      <td>0</td>\n",
       "      <td>0</td>\n",
       "      <td>0</td>\n",
       "      <td>0</td>\n",
       "      <td>0</td>\n",
       "      <td>0</td>\n",
       "      <td>0</td>\n",
       "      <td>0</td>\n",
       "      <td>1</td>\n",
       "    </tr>\n",
       "    <tr>\n",
       "      <th>Total</th>\n",
       "      <td>116</td>\n",
       "      <td>3</td>\n",
       "      <td>499</td>\n",
       "      <td>52</td>\n",
       "      <td>2131</td>\n",
       "      <td>97</td>\n",
       "      <td>786</td>\n",
       "      <td>542</td>\n",
       "      <td>27</td>\n",
       "      <td>1</td>\n",
       "      <td>...</td>\n",
       "      <td>6</td>\n",
       "      <td>239</td>\n",
       "      <td>2</td>\n",
       "      <td>6</td>\n",
       "      <td>1290</td>\n",
       "      <td>143</td>\n",
       "      <td>1234</td>\n",
       "      <td>803</td>\n",
       "      <td>213</td>\n",
       "      <td>16291</td>\n",
       "    </tr>\n",
       "  </tbody>\n",
       "</table>\n",
       "<p>40 rows × 32 columns</p>\n",
       "</div>"
      ],
      "text/plain": [
       "Platform  2600  3DO  3DS  DC    DS  GB  GBA   GC  GEN  GG  ...  SCD  SNES  \\\n",
       "Year                                                       ...              \n",
       "1980         9    0    0   0     0   0    0    0    0   0  ...    0     0   \n",
       "1981        46    0    0   0     0   0    0    0    0   0  ...    0     0   \n",
       "1982        36    0    0   0     0   0    0    0    0   0  ...    0     0   \n",
       "1983        11    0    0   0     0   0    0    0    0   0  ...    0     0   \n",
       "1984         1    0    0   0     0   0    0    0    0   0  ...    0     0   \n",
       "1985         1    0    0   0     1   0    0    0    0   0  ...    0     0   \n",
       "1986         2    0    0   0     0   0    0    0    0   0  ...    0     0   \n",
       "1987         6    0    0   0     0   0    0    0    0   0  ...    0     0   \n",
       "1988         2    0    0   0     0   1    0    0    0   0  ...    0     0   \n",
       "1989         2    0    0   0     0  10    0    0    0   0  ...    0     0   \n",
       "1990         0    0    0   0     0   3    0    0    1   0  ...    0     4   \n",
       "1991         0    0    0   0     0   9    0    0    1   0  ...    0    24   \n",
       "1992         0    0    0   0     0   7    0    0    6   1  ...    0    21   \n",
       "1993         0    0    0   0     0   0    0    0    7   0  ...    1    46   \n",
       "1994         0    1    0   0     0   3    0    0   12   0  ...    5    53   \n",
       "1995         0    2    0   0     0   4    0    0    0   0  ...    0    54   \n",
       "1996         0    0    0   0     0   6    0    0    0   0  ...    0    30   \n",
       "1997         0    0    0   0     0   8    0    0    0   0  ...    0     4   \n",
       "1998         0    0    0   7     0   8    0    0    0   0  ...    0     2   \n",
       "1999         0    0    0  14     0  11    0    0    0   0  ...    0     1   \n",
       "2000         0    0    0  20     0  17    1    0    0   0  ...    0     0   \n",
       "2001         0    0    0   8     0  10  107   22    0   0  ...    0     0   \n",
       "2002         0    0    0   1     0   0  198  152    0   0  ...    0     0   \n",
       "2003         0    0    0   0     0   0  150  144    0   0  ...    0     0   \n",
       "2004         0    0    0   0    23   0  156   83    0   0  ...    0     0   \n",
       "2005         0    0    0   0   118   0  130   97    0   0  ...    0     0   \n",
       "2006         0    0    0   0   202   0   39   40    0   0  ...    0     0   \n",
       "2007         0    0    0   1   377   0    5    4    0   0  ...    0     0   \n",
       "2008         0    0    0   1   492   0    0    0    0   0  ...    0     0   \n",
       "2009         0    0    0   0   405   0    0    0    0   0  ...    0     0   \n",
       "2010         0    0    0   0   326   0    0    0    0   0  ...    0     0   \n",
       "2011         0    0  116   0   153   0    0    0    0   0  ...    0     0   \n",
       "2012         0    0   93   0    23   0    0    0    0   0  ...    0     0   \n",
       "2013         0    0   91   0     9   0    0    0    0   0  ...    0     0   \n",
       "2014         0    0   78   0     1   0    0    0    0   0  ...    0     0   \n",
       "2015         0    0   86   0     0   0    0    0    0   0  ...    0     0   \n",
       "2016         0    0   35   0     0   0    0    0    0   0  ...    0     0   \n",
       "2017         0    0    0   0     0   0    0    0    0   0  ...    0     0   \n",
       "2020         0    0    0   0     1   0    0    0    0   0  ...    0     0   \n",
       "Total      116    3  499  52  2131  97  786  542   27   1  ...    6   239   \n",
       "\n",
       "Platform  TG16  WS   Wii  WiiU  X360   XB  XOne  Total  \n",
       "Year                                                    \n",
       "1980         0   0     0     0     0    0     0      9  \n",
       "1981         0   0     0     0     0    0     0     46  \n",
       "1982         0   0     0     0     0    0     0     36  \n",
       "1983         0   0     0     0     0    0     0     17  \n",
       "1984         0   0     0     0     0    0     0     14  \n",
       "1985         0   0     0     0     0    0     0     14  \n",
       "1986         0   0     0     0     0    0     0     21  \n",
       "1987         0   0     0     0     0    0     0     16  \n",
       "1988         0   0     0     0     0    0     0     15  \n",
       "1989         0   0     0     0     0    0     0     17  \n",
       "1990         0   0     0     0     0    0     0     16  \n",
       "1991         0   0     0     0     0    0     0     41  \n",
       "1992         0   0     0     0     0    0     0     43  \n",
       "1993         0   0     0     0     0    0     0     60  \n",
       "1994         0   0     0     0     0    0     0    121  \n",
       "1995         2   0     0     0     0    0     0    219  \n",
       "1996         0   0     0     0     0    0     0    263  \n",
       "1997         0   0     0     0     0    0     0    289  \n",
       "1998         0   0     0     0     0    0     0    379  \n",
       "1999         0   2     0     0     0    0     0    338  \n",
       "2000         0   2     0     0     0    1     0    349  \n",
       "2001         0   2     0     0     0   33     0    482  \n",
       "2002         0   0     0     0     0  158     0    829  \n",
       "2003         0   0     0     0     0  189     0    775  \n",
       "2004         0   0     0     0     0  177     0    744  \n",
       "2005         0   0     0     0    18  179     0    936  \n",
       "2006         0   0    44     0    93   62     0   1008  \n",
       "2007         0   0   187     0   123    3     0   1201  \n",
       "2008         0   0   282     0   146    1     0   1428  \n",
       "2009         0   0   325     0   173    0     0   1431  \n",
       "2010         0   0   254     0   182    0     0   1257  \n",
       "2011         0   0   144     0   206    0     0   1136  \n",
       "2012         0   0    32    32   106    0     0    655  \n",
       "2013         0   0    12    42    75    0    19    546  \n",
       "2014         0   0     6    31    64    0    61    580  \n",
       "2015         0   0     4    28    40    0    79    614  \n",
       "2016         0   0     0    10     8    0    54    342  \n",
       "2017         0   0     0     0     0    0     0      3  \n",
       "2020         0   0     0     0     0    0     0      1  \n",
       "Total        2   6  1290   143  1234  803   213  16291  \n",
       "\n",
       "[40 rows x 32 columns]"
      ]
     },
     "execution_count": 16,
     "metadata": {},
     "output_type": "execute_result"
    }
   ],
   "source": [
    "game_list = pd.crosstab(vgsales['Platform'], \n",
    "            vgsales['Year'], margins=True, \n",
    "            margins_name=\"Total\", \n",
    "           ).T\n",
    "game_list"
   ]
  },
  {
   "cell_type": "markdown",
   "metadata": {},
   "source": [
    "This table let us see that the gaming industry has been actively grown since 1994 with a peek in the years between 2006 - 2011. Then, it falls to levels from the start of the 00' decade. This can be caused due to the increasing cost (time and money) of developing newer games in the last decade. \n",
    "\n",
    "To clarify, lets make an histogram of this:"
   ]
  },
  {
   "cell_type": "code",
   "execution_count": 17,
   "metadata": {},
   "outputs": [
    {
     "data": {
      "image/png": "[encoded data removed]",
      "text/plain": [
       "<Figure size 1080x360 with 1 Axes>"
      ]
     },
     "metadata": {
      "needs_background": "light"
     },
     "output_type": "display_data"
    }
   ],
   "source": [
    "vgsales.groupby('Year')['Name'].count().plot(\n",
    "            kind='bar', y='name', figsize=(15,5), edgecolor='black'\n",
    ")\n",
    "plt.title('Games by year from 1980 to 2016')\n",
    "plt.xticks(rotation=42)\n",
    "plt.xlabel('')\n",
    "plt.show()"
   ]
  },
  {
   "cell_type": "code",
   "execution_count": 10,
   "metadata": {},
   "outputs": [
    {
     "data": {
      "text/html": [
       "<div>\n",
       "<style scoped>\n",
       "    .dataframe tbody tr th:only-of-type {\n",
       "        vertical-align: middle;\n",
       "    }\n",
       "\n",
       "    .dataframe tbody tr th {\n",
       "        vertical-align: top;\n",
       "    }\n",
       "\n",
       "    .dataframe thead th {\n",
       "        text-align: right;\n",
       "    }\n",
       "</style>\n",
       "<table border=\"1\" class=\"dataframe\">\n",
       "  <thead>\n",
       "    <tr style=\"text-align: right;\">\n",
       "      <th></th>\n",
       "      <th>Global_Sales</th>\n",
       "    </tr>\n",
       "    <tr>\n",
       "      <th>Platform</th>\n",
       "      <th></th>\n",
       "    </tr>\n",
       "  </thead>\n",
       "  <tbody>\n",
       "    <tr>\n",
       "      <th>PS2</th>\n",
       "      <td>1255.64</td>\n",
       "    </tr>\n",
       "    <tr>\n",
       "      <th>X360</th>\n",
       "      <td>979.96</td>\n",
       "    </tr>\n",
       "    <tr>\n",
       "      <th>PS3</th>\n",
       "      <td>957.84</td>\n",
       "    </tr>\n",
       "    <tr>\n",
       "      <th>Wii</th>\n",
       "      <td>926.71</td>\n",
       "    </tr>\n",
       "    <tr>\n",
       "      <th>DS</th>\n",
       "      <td>822.49</td>\n",
       "    </tr>\n",
       "    <tr>\n",
       "      <th>PS</th>\n",
       "      <td>730.66</td>\n",
       "    </tr>\n",
       "    <tr>\n",
       "      <th>GBA</th>\n",
       "      <td>318.50</td>\n",
       "    </tr>\n",
       "    <tr>\n",
       "      <th>PSP</th>\n",
       "      <td>296.28</td>\n",
       "    </tr>\n",
       "    <tr>\n",
       "      <th>PS4</th>\n",
       "      <td>278.10</td>\n",
       "    </tr>\n",
       "    <tr>\n",
       "      <th>PC</th>\n",
       "      <td>258.82</td>\n",
       "    </tr>\n",
       "  </tbody>\n",
       "</table>\n",
       "</div>"
      ],
      "text/plain": [
       "          Global_Sales\n",
       "Platform              \n",
       "PS2            1255.64\n",
       "X360            979.96\n",
       "PS3             957.84\n",
       "Wii             926.71\n",
       "DS              822.49\n",
       "PS              730.66\n",
       "GBA             318.50\n",
       "PSP             296.28\n",
       "PS4             278.10\n",
       "PC              258.82"
      ]
     },
     "execution_count": 10,
     "metadata": {},
     "output_type": "execute_result"
    }
   ],
   "source": [
    "# Now, lets take a look at the sales of games for platform\n",
    "\n",
    "vgsales.groupby('Platform')['Global_Sales'].sum().to_frame(\n",
    "                                                        'Global_Sales').sort_values(\n",
    "                                                        by='Global_Sales', ascending=False\n",
    "                                                        ).head(10)"
   ]
  },
  {
   "cell_type": "code",
   "execution_count": 11,
   "metadata": {},
   "outputs": [
    {
     "data": {
      "image/png": "[encoded data removed]",
      "text/plain": [
       "<Figure size 1080x720 with 1 Axes>"
      ]
     },
     "metadata": {
      "needs_background": "light"
     },
     "output_type": "display_data"
    }
   ],
   "source": [
    "# Again, to clarify this table, lets use a histogram: \n",
    "\n",
    "vgsales.groupby('Platform')['Global_Sales'].sum().sort_values(ascending=True).plot(\n",
    "            kind='barh', y='Global_Sales', figsize=(15,10), edgecolor='black'\n",
    ")\n",
    "plt.title('Sales of games on each platforms')\n",
    "plt.xticks(rotation=42)\n",
    "plt.xlabel('')\n",
    "plt.ylabel('')\n",
    "plt.show()"
   ]
  },
  {
   "cell_type": "code",
   "execution_count": null,
   "metadata": {},
   "outputs": [],
   "source": []
  },
  {
   "cell_type": "code",
   "execution_count": 12,
   "metadata": {},
   "outputs": [
    {
     "ename": "FileNotFoundError",
     "evalue": "[Errno 2] No such file or directory: 'your_image_here'",
     "output_type": "error",
     "traceback": [
      "\u001b[0;31m---------------------------------------------------------------------------\u001b[0m",
      "\u001b[0;31mFileNotFoundError\u001b[0m                         Traceback (most recent call last)",
      "\u001b[0;32m<ipython-input-12-4e94e7226505>\u001b[0m in \u001b[0;36m<module>\u001b[0;34m\u001b[0m\n\u001b[1;32m      1\u001b[0m \u001b[0;32mfrom\u001b[0m \u001b[0mPIL\u001b[0m \u001b[0;32mimport\u001b[0m \u001b[0mImage\u001b[0m\u001b[0;34m\u001b[0m\u001b[0;34m\u001b[0m\u001b[0m\n\u001b[0;32m----> 2\u001b[0;31m \u001b[0mmyImage\u001b[0m \u001b[0;34m=\u001b[0m \u001b[0mImage\u001b[0m\u001b[0;34m.\u001b[0m\u001b[0mopen\u001b[0m\u001b[0;34m(\u001b[0m\u001b[0;34m\"your_image_here\"\u001b[0m\u001b[0;34m)\u001b[0m\u001b[0;34m;\u001b[0m\u001b[0;34m\u001b[0m\u001b[0;34m\u001b[0m\u001b[0m\n\u001b[0m\u001b[1;32m      3\u001b[0m \u001b[0mmyImage\u001b[0m\u001b[0;34m.\u001b[0m\u001b[0mshow\u001b[0m\u001b[0;34m(\u001b[0m\u001b[0;34m)\u001b[0m\u001b[0;34m;\u001b[0m\u001b[0;34m\u001b[0m\u001b[0;34m\u001b[0m\u001b[0m\n",
      "\u001b[0;32m~/opt/anaconda3/lib/python3.8/site-packages/PIL/Image.py\u001b[0m in \u001b[0;36mopen\u001b[0;34m(fp, mode, formats)\u001b[0m\n\u001b[1;32m   2889\u001b[0m \u001b[0;34m\u001b[0m\u001b[0m\n\u001b[1;32m   2890\u001b[0m     \u001b[0;32mif\u001b[0m \u001b[0mfilename\u001b[0m\u001b[0;34m:\u001b[0m\u001b[0;34m\u001b[0m\u001b[0;34m\u001b[0m\u001b[0m\n\u001b[0;32m-> 2891\u001b[0;31m         \u001b[0mfp\u001b[0m \u001b[0;34m=\u001b[0m \u001b[0mbuiltins\u001b[0m\u001b[0;34m.\u001b[0m\u001b[0mopen\u001b[0m\u001b[0;34m(\u001b[0m\u001b[0mfilename\u001b[0m\u001b[0;34m,\u001b[0m \u001b[0;34m\"rb\"\u001b[0m\u001b[0;34m)\u001b[0m\u001b[0;34m\u001b[0m\u001b[0;34m\u001b[0m\u001b[0m\n\u001b[0m\u001b[1;32m   2892\u001b[0m         \u001b[0mexclusive_fp\u001b[0m \u001b[0;34m=\u001b[0m \u001b[0;32mTrue\u001b[0m\u001b[0;34m\u001b[0m\u001b[0;34m\u001b[0m\u001b[0m\n\u001b[1;32m   2893\u001b[0m \u001b[0;34m\u001b[0m\u001b[0m\n",
      "\u001b[0;31mFileNotFoundError\u001b[0m: [Errno 2] No such file or directory: 'your_image_here'"
     ]
    }
   ],
   "source": [
    "from PIL import Image\n",
    "myImage = Image.open(\"your_image_here\");\n",
    "myImage.show();"
   ]
  },
  {
   "cell_type": "code",
   "execution_count": null,
   "metadata": {},
   "outputs": [],
   "source": [
    "# add image\n",
    "\n",
    "my_image = PhotoImage "
   ]
  },
  {
   "cell_type": "code",
   "execution_count": null,
   "metadata": {},
   "outputs": [],
   "source": []
  },
  {
   "cell_type": "code",
   "execution_count": null,
   "metadata": {},
   "outputs": [],
   "source": []
  }
 ],
 "metadata": {
  "kernelspec": {
   "display_name": "Python 3",
   "language": "python",
   "name": "python3"
  },
  "language_info": {
   "codemirror_mode": {
    "name": "ipython",
    "version": 3
   },
   "file_extension": ".py",
   "mimetype": "text/x-python",
   "name": "python",
   "nbconvert_exporter": "python",
   "pygments_lexer": "ipython3",
   "version": "3.8.5"
  }
 },
 "nbformat": 4,
 "nbformat_minor": 4
}
